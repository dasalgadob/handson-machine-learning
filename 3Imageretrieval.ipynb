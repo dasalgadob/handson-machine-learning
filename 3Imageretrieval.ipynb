{
  "nbformat": 4,
  "nbformat_minor": 0,
  "metadata": {
    "colab": {
      "name": "3Imageretrieval.ipynb",
      "version": "0.3.2",
      "provenance": [],
      "include_colab_link": true
    },
    "kernelspec": {
      "name": "python3",
      "display_name": "Python 3"
    },
    "accelerator": "GPU"
  },
  "cells": [
    {
      "cell_type": "markdown",
      "metadata": {
        "id": "view-in-github",
        "colab_type": "text"
      },
      "source": [
        "<a href=\"https://colab.research.google.com/github/dasalgadob/handson-machine-learning/blob/master/3Imageretrieval.ipynb\" target=\"_parent\"><img src=\"https://colab.research.google.com/assets/colab-badge.svg\" alt=\"Open In Colab\"/></a>"
      ]
    },
    {
      "metadata": {
        "id": "c649-5QTOUdK",
        "colab_type": "code",
        "colab": {}
      },
      "cell_type": "code",
      "source": [
        "import tensorflow as tf\n",
        "from tensorflow import stack\n",
        "#from keras.datasets import mnist\n",
        "from keras.datasets import mnist\n",
        "import numpy as np\n",
        "from tensorflow.contrib.tensorboard.plugins import projector\n",
        "import os"
      ],
      "execution_count": 0,
      "outputs": []
    },
    {
      "metadata": {
        "id": "-owHmcWIOenx",
        "colab_type": "text"
      },
      "cell_type": "markdown",
      "source": [
        "## Embedding visualization"
      ]
    },
    {
      "metadata": {
        "id": "rIpcqKmhRE4x",
        "colab_type": "code",
        "colab": {}
      },
      "cell_type": "code",
      "source": [
        "(x_train, y_train), (x_test, y_test) = mnist.load_data()"
      ],
      "execution_count": 0,
      "outputs": []
    },
    {
      "metadata": {
        "id": "-7dIQ9ozS-ZX",
        "colab_type": "code",
        "outputId": "bf0d563b-46eb-44ef-8f76-67774d886547",
        "colab": {
          "base_uri": "https://localhost:8080/",
          "height": 85
        }
      },
      "cell_type": "code",
      "source": [
        "from tensorflow.examples.tutorials.mnist import input_data\n",
        "mnist_data = input_data.read_data_sets('MNIST_data', one_hot=True)"
      ],
      "execution_count": 0,
      "outputs": [
        {
          "output_type": "stream",
          "text": [
            "Extracting MNIST_data/train-images-idx3-ubyte.gz\n",
            "Extracting MNIST_data/train-labels-idx1-ubyte.gz\n",
            "Extracting MNIST_data/t10k-images-idx3-ubyte.gz\n",
            "Extracting MNIST_data/t10k-labels-idx1-ubyte.gz\n"
          ],
          "name": "stdout"
        }
      ]
    },
    {
      "metadata": {
        "id": "JJ_Oemi_RF-P",
        "colab_type": "code",
        "outputId": "4baabb6c-bb85-47fd-be9a-6e01a76bb26b",
        "colab": {
          "base_uri": "https://localhost:8080/",
          "height": 54
        }
      },
      "cell_type": "code",
      "source": [
        "print(mnist_data[::1])"
      ],
      "execution_count": 0,
      "outputs": [
        {
          "output_type": "stream",
          "text": [
            "(<tensorflow.contrib.learn.python.learn.datasets.mnist.DataSet object at 0x7f8f0f858f28>, <tensorflow.contrib.learn.python.learn.datasets.mnist.DataSet object at 0x7f8f0f88b240>, <tensorflow.contrib.learn.python.learn.datasets.mnist.DataSet object at 0x7f8f0f88b390>)\n"
          ],
          "name": "stdout"
        }
      ]
    },
    {
      "metadata": {
        "id": "b72UNLd-OjT_",
        "colab_type": "code",
        "colab": {}
      },
      "cell_type": "code",
      "source": [
        "no_embedding_data = 1000\n",
        "embedding_variable = tf.Variable(stack( mnist_data.test.images[:no_embedding_data], axis=0), trainable= False)"
      ],
      "execution_count": 0,
      "outputs": []
    },
    {
      "metadata": {
        "id": "REdOhHsTRv6U",
        "colab_type": "text"
      },
      "cell_type": "markdown",
      "source": [
        "### MNIST test data to metadata file for visualization"
      ]
    },
    {
      "metadata": {
        "id": "UzH9iwpBPW33",
        "colab_type": "code",
        "colab": {}
      },
      "cell_type": "code",
      "source": [
        "metadata_path = '/metadata.tsv'\n",
        "work_dir = ''\n",
        "\n",
        "with open(metadata_path, 'w') as metadata_file:\n",
        "  for i in range(no_embedding_data):\n",
        "    metadata_file.write('{}\\n'.format( np.nonzero(mnist_data.test.labels[::1])[1:][0][i]))\n",
        "    \n",
        "    \n",
        "projector_config =projector.ProjectorConfig()\n",
        "embedding_projection = projector_config.embeddings.add()\n",
        "embedding_projection.tensor_name = embedding_variable.name\n",
        "embedding_projection.metadata_path = metadata_path\n",
        "embedding_projection.sprite.image_path = os.path.join( work_dir + 'mnist_10k_sprite.png')\n",
        "embedding_projection.sprite.single_image_dim.extend([28,28])"
      ],
      "execution_count": 0,
      "outputs": []
    },
    {
      "metadata": {
        "id": "BxEQTUFkSsyr",
        "colab_type": "code",
        "colab": {}
      },
      "cell_type": "code",
      "source": [
        "#projector.visualize_embeddings(train_summary_writer, projector_config)\n",
        "#tf.train.Saver().save(session, '/tmp/train/model.ckpt', global_step=1)"
      ],
      "execution_count": 0,
      "outputs": []
    },
    {
      "metadata": {
        "id": "45Nv7v3xUBuo",
        "colab_type": "code",
        "colab": {}
      },
      "cell_type": "code",
      "source": [
        ""
      ],
      "execution_count": 0,
      "outputs": []
    }
  ]
}