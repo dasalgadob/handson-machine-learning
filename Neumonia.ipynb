{
  "nbformat": 4,
  "nbformat_minor": 0,
  "metadata": {
    "colab": {
      "name": "Neumonia.ipynb",
      "version": "0.3.2",
      "provenance": [],
      "include_colab_link": true
    },
    "kernelspec": {
      "name": "python3",
      "display_name": "Python 3"
    },
    "accelerator": "GPU"
  },
  "cells": [
    {
      "cell_type": "markdown",
      "metadata": {
        "id": "view-in-github",
        "colab_type": "text"
      },
      "source": [
        "<a href=\"https://colab.research.google.com/github/dasalgadob/handson-machine-learning/blob/master/Neumonia.ipynb\" target=\"_parent\"><img src=\"https://colab.research.google.com/assets/colab-badge.svg\" alt=\"Open In Colab\"/></a>"
      ]
    },
    {
      "metadata": {
        "id": "LJ1csmQNQrMH",
        "colab_type": "code",
        "colab": {}
      },
      "cell_type": "code",
      "source": [
        ""
      ],
      "execution_count": 0,
      "outputs": []
    },
    {
      "metadata": {
        "id": "rEUqmQr-Q4eY",
        "colab_type": "text"
      },
      "cell_type": "markdown",
      "source": [
        "# reconomiento de images de rayos X para detectar neumonia"
      ]
    },
    {
      "metadata": {
        "id": "3z-iMa5qRXL-",
        "colab_type": "text"
      },
      "cell_type": "markdown",
      "source": [
        "## Downloading data"
      ]
    },
    {
      "metadata": {
        "id": "dmy-hm-wRY8w",
        "colab_type": "code",
        "outputId": "57ac1ec4-6f0d-4ed8-ee92-79f72cee9e4e",
        "colab": {
          "resources": {
            "http://localhost:8080/nbextensions/google.colab/files.js": {
              "data": "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",
              "ok": true,
              "headers": [
                [
                  "content-type",
                  "application/javascript"
                ]
              ],
              "status": 200,
              "status_text": ""
            }
          },
          "base_uri": "https://localhost:8080/",
          "height": 86
        }
      },
      "cell_type": "code",
      "source": [
        "from google.colab import files\n",
        "files.upload()"
      ],
      "execution_count": 0,
      "outputs": [
        {
          "output_type": "display_data",
          "data": {
            "text/html": [
              "\n",
              "     <input type=\"file\" id=\"files-ddd9a29b-4fd5-4c7a-8888-f409cb0d5cae\" name=\"files[]\" multiple disabled />\n",
              "     <output id=\"result-ddd9a29b-4fd5-4c7a-8888-f409cb0d5cae\">\n",
              "      Upload widget is only available when the cell has been executed in the\n",
              "      current browser session. Please rerun this cell to enable.\n",
              "      </output>\n",
              "      <script src=\"/nbextensions/google.colab/files.js\"></script> "
            ],
            "text/plain": [
              "<IPython.core.display.HTML object>"
            ]
          },
          "metadata": {
            "tags": []
          }
        },
        {
          "output_type": "stream",
          "text": [
            "Saving kaggle.json to kaggle.json\n"
          ],
          "name": "stdout"
        },
        {
          "output_type": "execute_result",
          "data": {
            "text/plain": [
              "{'kaggle.json': b'{\"username\":\"dasalgadob\",\"key\":\"cc827058d8ada3fe821c934bbb1f7e7e\"}'}"
            ]
          },
          "metadata": {
            "tags": []
          },
          "execution_count": 1
        }
      ]
    },
    {
      "metadata": {
        "id": "CK-0KrwxRdwR",
        "colab_type": "code",
        "colab": {}
      },
      "cell_type": "code",
      "source": [
        "!pip install -q kaggle\n",
        "!mkdir -p ~/.kaggle\n",
        "!cp kaggle.json ~/.kaggle/"
      ],
      "execution_count": 0,
      "outputs": []
    },
    {
      "metadata": {
        "id": "Xra0fXn0R0Ak",
        "colab_type": "code",
        "outputId": "a4000e4d-b408-48a2-f49b-b8166f862736",
        "colab": {
          "base_uri": "https://localhost:8080/",
          "height": 85
        }
      },
      "cell_type": "code",
      "source": [
        "##downloading data\n",
        "!kaggle datasets download -d paultimothymooney/chest-xray-pneumonia"
      ],
      "execution_count": 0,
      "outputs": [
        {
          "output_type": "stream",
          "text": [
            "Warning: Your Kaggle API key is readable by other users on this system! To fix this, you can run 'chmod 600 /root/.kaggle/kaggle.json'\n",
            "Downloading chest-xray-pneumonia.zip to /content\n",
            " 98% 1.13G/1.15G [00:11<00:00, 53.9MB/s]\n",
            "100% 1.15G/1.15G [00:11<00:00, 107MB/s] \n"
          ],
          "name": "stdout"
        }
      ]
    },
    {
      "metadata": {
        "id": "qqcUpl34R1Me",
        "colab_type": "code",
        "outputId": "fa90e50f-bf42-44d3-ee89-caca8fee1122",
        "colab": {
          "base_uri": "https://localhost:8080/",
          "height": 34
        }
      },
      "cell_type": "code",
      "source": [
        "##checking structure\n",
        "!ls chest_xray"
      ],
      "execution_count": 0,
      "outputs": [
        {
          "output_type": "stream",
          "text": [
            "ls: cannot access 'chest_xray': No such file or directory\n"
          ],
          "name": "stdout"
        }
      ]
    },
    {
      "metadata": {
        "id": "AuTaMLN7SQ47",
        "colab_type": "code",
        "colab": {}
      },
      "cell_type": "code",
      "source": [
        "!unzip chest-xray-pneumonia.zip > /dev/null\n",
        "!unzip chest_xray.zip > /dev/null"
      ],
      "execution_count": 0,
      "outputs": []
    },
    {
      "metadata": {
        "id": "TOU1yrSmTYHV",
        "colab_type": "text"
      },
      "cell_type": "markdown",
      "source": [
        "### Checking the data images"
      ]
    },
    {
      "metadata": {
        "id": "_e3Rn8R5SfEo",
        "colab_type": "code",
        "outputId": "dc4a198e-6fd4-4211-f32e-a30064696ce1",
        "colab": {
          "base_uri": "https://localhost:8080/",
          "height": 34
        }
      },
      "cell_type": "code",
      "source": [
        "%matplotlib inline\n",
        "import matplotlib.pyplot as plt\n",
        "from keras.preprocessing.image import ImageDataGenerator, array_to_img, img_to_array, load_img\n",
        "import os\n",
        "import shutil\n",
        "from keras.models import Sequential\n",
        "from keras.layers import Conv2D, MaxPooling2D\n",
        "from keras.layers import Activation, Dropout, Flatten, Dense\n",
        "from keras import backend as K"
      ],
      "execution_count": 0,
      "outputs": [
        {
          "output_type": "stream",
          "text": [
            "Using TensorFlow backend.\n"
          ],
          "name": "stderr"
        }
      ]
    },
    {
      "metadata": {
        "id": "e45JsB7fSf9Z",
        "colab_type": "code",
        "outputId": "8ac3ebf5-8183-4d37-b19e-9b91af4abd29",
        "colab": {
          "base_uri": "https://localhost:8080/",
          "height": 286
        }
      },
      "cell_type": "code",
      "source": [
        "##Normal\n",
        "img = load_img('chest_xray/train/NORMAL/IM-0115-0001.jpeg')  # this is a PIL image\n",
        "x = img_to_array(img)  # this is a Numpy array with shape (3, 150, 150)\n",
        "plt.imshow(img)"
      ],
      "execution_count": 0,
      "outputs": [
        {
          "output_type": "execute_result",
          "data": {
            "text/plain": [
              "<matplotlib.image.AxesImage at 0x7f08de535080>"
            ]
          },
          "metadata": {
            "tags": []
          },
          "execution_count": 7
        },
        {
          "output_type": "display_data",
          "data": {
            "image/png": "[encoded data removed]",
            "text/plain": [
              "<matplotlib.figure.Figure at 0x7f091ccb8ba8>"
            ]
          },
          "metadata": {
            "tags": []
          }
        }
      ]
    },
    {
      "metadata": {
        "id": "-QuEBovgYCxw",
        "colab_type": "code",
        "outputId": "2963f0fa-fded-45ab-a325-eb6596d55e96",
        "colab": {
          "base_uri": "https://localhost:8080/",
          "height": 34
        }
      },
      "cell_type": "code",
      "source": [
        "print(img)"
      ],
      "execution_count": 0,
      "outputs": [
        {
          "output_type": "stream",
          "text": [
            "<PIL.Image.Image image mode=RGB size=2090x1858 at 0x7F091CCB88D0>\n"
          ],
          "name": "stdout"
        }
      ]
    },
    {
      "metadata": {
        "id": "lx01p0-lU7sL",
        "colab_type": "code",
        "outputId": "ceec1d7e-0a57-48ca-d00a-7ef59a644f95",
        "colab": {
          "base_uri": "https://localhost:8080/",
          "height": 286
        }
      },
      "cell_type": "code",
      "source": [
        "##Neumonia bacteria\n",
        "img = load_img('chest_xray/train/PNEUMONIA/person1000_bacteria_2931.jpeg')  # this is a PIL image\n",
        "x = img_to_array(img)  # this is a Numpy array with shape (3, 150, 150)\n",
        "plt.imshow(img)"
      ],
      "execution_count": 0,
      "outputs": [
        {
          "output_type": "execute_result",
          "data": {
            "text/plain": [
              "<matplotlib.image.AxesImage at 0x7f08dbcc6940>"
            ]
          },
          "metadata": {
            "tags": []
          },
          "execution_count": 9
        },
        {
          "output_type": "display_data",
          "data": {
            "image/png": "[encoded data removed]",
            "text/plain": [
              "<matplotlib.figure.Figure at 0x7f08de591978>"
            ]
          },
          "metadata": {
            "tags": []
          }
        }
      ]
    },
    {
      "metadata": {
        "id": "oLfjwj6RVeIO",
        "colab_type": "code",
        "outputId": "4154c5a6-d7a8-455d-eeec-e634b4ce7416",
        "colab": {
          "base_uri": "https://localhost:8080/",
          "height": 273
        }
      },
      "cell_type": "code",
      "source": [
        "##Neumonia virus\n",
        "img = load_img('chest_xray/train/PNEUMONIA/person1003_virus_1685.jpeg')  # this is a PIL image\n",
        "x = img_to_array(img)  # this is a Numpy array with shape (3, 150, 150)\n",
        "plt.imshow(img)"
      ],
      "execution_count": 0,
      "outputs": [
        {
          "output_type": "execute_result",
          "data": {
            "text/plain": [
              "<matplotlib.image.AxesImage at 0x7f08da436048>"
            ]
          },
          "metadata": {
            "tags": []
          },
          "execution_count": 10
        },
        {
          "output_type": "display_data",
          "data": {
            "image/png": "[encoded data removed]",
            "text/plain": [
              "<matplotlib.figure.Figure at 0x7f08de591780>"
            ]
          },
          "metadata": {
            "tags": []
          }
        }
      ]
    },
    {
      "metadata": {
        "id": "_rCWKcTWWafz",
        "colab_type": "code",
        "outputId": "5788243a-f4d2-4ddd-9179-9e58a0cb325d",
        "colab": {
          "base_uri": "https://localhost:8080/",
          "height": 119
        }
      },
      "cell_type": "code",
      "source": [
        "## mirando cantidad de imagenes de cada carpeta\n",
        "work_dir=''\n",
        "test_normal = sorted(os.listdir(os.path.join(work_dir, 'chest_xray', 'test', 'NORMAL')))\n",
        "print(len(test_normal))\n",
        "test_neumonia = sorted(os.listdir(os.path.join(work_dir, 'chest_xray', 'test', 'PNEUMONIA')))\n",
        "print(len(test_neumonia))\n",
        "train_normal = sorted(os.listdir(os.path.join(work_dir, 'chest_xray', 'train', 'NORMAL')))\n",
        "print(len(train_normal))\n",
        "train_neumonia = sorted(os.listdir(os.path.join(work_dir, 'chest_xray', 'train', 'PNEUMONIA')))\n",
        "print(len(train_neumonia))\n",
        "val_normal = sorted(os.listdir(os.path.join(work_dir, 'chest_xray', 'val', 'NORMAL')))\n",
        "print(len(val_normal))\n",
        "val_neumonia = sorted(os.listdir(os.path.join(work_dir, 'chest_xray', 'val', 'PNEUMONIA')))\n",
        "print(len(val_neumonia))"
      ],
      "execution_count": 0,
      "outputs": [
        {
          "output_type": "stream",
          "text": [
            "234\n",
            "390\n",
            "1342\n",
            "3876\n",
            "9\n",
            "9\n"
          ],
          "name": "stdout"
        }
      ]
    },
    {
      "metadata": {
        "id": "du6cUn29WAsD",
        "colab_type": "text"
      },
      "cell_type": "markdown",
      "source": [
        "### Basic Model"
      ]
    },
    {
      "metadata": {
        "id": "lmtcZynYWCeA",
        "colab_type": "code",
        "outputId": "6ee0b923-5e37-4d0c-e61d-abcd4890de08",
        "colab": {
          "base_uri": "https://localhost:8080/",
          "height": 51
        }
      },
      "cell_type": "code",
      "source": [
        "\n",
        "image_height, image_width = 128,128\n",
        "train_dir = os.path.join(work_dir, \"chest_xray\", 'train')\n",
        "test_dir = os.path.join(work_dir, \"chest_xray\", 'test')\n",
        "no_classes = 2\n",
        "no_validation = len(test_normal)+ len(test_neumonia) \n",
        "epochs = 10\n",
        "batch_size = 16\n",
        "no_train = len(train_normal)+ len(train_neumonia) -2\n",
        "no_test = len(test_normal)+ len(test_neumonia) \n",
        "input_shape = (image_height, image_width, 3)\n",
        "epoch_steps = no_train // batch_size\n",
        "test_steps = no_test // batch_size\n",
        "print(epoch_steps)\n",
        "print(test_steps)"
      ],
      "execution_count": 0,
      "outputs": [
        {
          "output_type": "stream",
          "text": [
            "326\n",
            "39\n"
          ],
          "name": "stdout"
        }
      ]
    },
    {
      "metadata": {
        "id": "TIkcHNiCZLMy",
        "colab_type": "code",
        "outputId": "148fe226-0627-4d13-8d75-3f4c480edb18",
        "colab": {
          "base_uri": "https://localhost:8080/",
          "height": 51
        }
      },
      "cell_type": "code",
      "source": [
        "print(no_train)\n",
        "print(no_test)"
      ],
      "execution_count": 0,
      "outputs": [
        {
          "output_type": "stream",
          "text": [
            "5216\n",
            "624\n"
          ],
          "name": "stdout"
        }
      ]
    },
    {
      "metadata": {
        "id": "JT4XfoU0Yd-L",
        "colab_type": "code",
        "colab": {}
      },
      "cell_type": "code",
      "source": [
        "if K.image_data_format() == 'channels_first':\n",
        "    input_shape = (3, image_width, image_height)\n",
        "else:\n",
        "    input_shape = (image_width, image_height, 3)"
      ],
      "execution_count": 0,
      "outputs": []
    },
    {
      "metadata": {
        "id": "QGmvU8bdYim4",
        "colab_type": "code",
        "colab": {}
      },
      "cell_type": "code",
      "source": [
        "model = Sequential()\n",
        "model.add(Conv2D(32, (3, 3), input_shape=input_shape))\n",
        "model.add(Activation('relu'))\n",
        "model.add(MaxPooling2D(pool_size=(2, 2)))\n",
        "\n",
        "model.add(Conv2D(32, (3, 3)))\n",
        "model.add(Activation('relu'))\n",
        "model.add(MaxPooling2D(pool_size=(2, 2)))\n",
        "\n",
        "model.add(Conv2D(64, (3, 3)))\n",
        "model.add(Activation('relu'))\n",
        "model.add(MaxPooling2D(pool_size=(2, 2)))\n",
        "\n",
        "model.add(Flatten())\n",
        "model.add(Dense(64))\n",
        "model.add(Activation('relu'))\n",
        "model.add(Dropout(0.5))\n",
        "model.add(Dense(1))\n",
        "model.add(Activation('sigmoid'))\n",
        "\n",
        "#model.summary()"
      ],
      "execution_count": 0,
      "outputs": []
    },
    {
      "metadata": {
        "id": "rXo_DbEJY0yv",
        "colab_type": "code",
        "colab": {}
      },
      "cell_type": "code",
      "source": [
        "model.compile(loss='binary_crossentropy',\n",
        "              optimizer='rmsprop',\n",
        "              metrics=['accuracy'])"
      ],
      "execution_count": 0,
      "outputs": []
    },
    {
      "metadata": {
        "id": "rowenSduY1wS",
        "colab_type": "code",
        "colab": {}
      },
      "cell_type": "code",
      "source": [
        "generator_train = ImageDataGenerator(rescale=1. / 255)\n",
        "generator_test = ImageDataGenerator(rescale=1. / 255)"
      ],
      "execution_count": 0,
      "outputs": []
    },
    {
      "metadata": {
        "id": "ug8S7WNaY5Uc",
        "colab_type": "code",
        "outputId": "b30552d7-797f-4166-b2be-f2cb05d7b655",
        "colab": {
          "base_uri": "https://localhost:8080/",
          "height": 51
        }
      },
      "cell_type": "code",
      "source": [
        "train_images = generator_train.flow_from_directory(\n",
        "    train_dir,\n",
        "    batch_size=batch_size,\n",
        "    target_size=(image_width, image_height),\n",
        "    class_mode='binary'\n",
        ")\n",
        "\n",
        "test_images = generator_test.flow_from_directory(\n",
        "    test_dir,\n",
        "    batch_size=batch_size,\n",
        "    target_size=(image_width, image_height),\n",
        "    class_mode='binary'\n",
        ")"
      ],
      "execution_count": 0,
      "outputs": [
        {
          "output_type": "stream",
          "text": [
            "Found 5216 images belonging to 2 classes.\n",
            "Found 624 images belonging to 2 classes.\n"
          ],
          "name": "stdout"
        }
      ]
    },
    {
      "metadata": {
        "id": "lJqEyRQMZZkz",
        "colab_type": "code",
        "outputId": "867b9df8-3e5a-4f3e-a782-2b78ce26510e",
        "colab": {
          "base_uri": "https://localhost:8080/",
          "height": 357
        }
      },
      "cell_type": "code",
      "source": [
        "history= model.fit_generator(\n",
        "    train_images,\n",
        "    steps_per_epoch=epoch_steps,\n",
        "    epochs=epochs,\n",
        "    validation_data=test_images,\n",
        "    validation_steps=test_steps)"
      ],
      "execution_count": 0,
      "outputs": [
        {
          "output_type": "stream",
          "text": [
            "Epoch 1/10\n",
            "326/326 [==============================] - 93s 285ms/step - loss: 0.2704 - acc: 0.8942 - val_loss: 1.3957 - val_acc: 0.7147\n",
            "Epoch 2/10\n",
            "326/326 [==============================] - 82s 251ms/step - loss: 0.1293 - acc: 0.9578 - val_loss: 0.8443 - val_acc: 0.7756\n",
            "Epoch 3/10\n",
            "326/326 [==============================] - 105s 323ms/step - loss: 0.1036 - acc: 0.9664 - val_loss: 1.1798 - val_acc: 0.7388\n",
            "Epoch 4/10\n",
            "326/326 [==============================] - 66s 202ms/step - loss: 0.0944 - acc: 0.9695 - val_loss: 1.4307 - val_acc: 0.7644\n",
            "Epoch 5/10\n",
            "326/326 [==============================] - 77s 237ms/step - loss: 0.0812 - acc: 0.9734 - val_loss: 1.1895 - val_acc: 0.7484\n",
            "Epoch 6/10\n",
            "326/326 [==============================] - 66s 203ms/step - loss: 0.0836 - acc: 0.9739 - val_loss: 1.2115 - val_acc: 0.7644\n",
            "Epoch 7/10\n",
            "326/326 [==============================] - 66s 203ms/step - loss: 0.0774 - acc: 0.9776 - val_loss: 1.2462 - val_acc: 0.7532\n",
            "Epoch 8/10\n",
            "326/326 [==============================] - 66s 203ms/step - loss: 0.0648 - acc: 0.9778 - val_loss: 1.7868 - val_acc: 0.7452\n",
            "Epoch 9/10\n",
            "326/326 [==============================] - 66s 202ms/step - loss: 0.0612 - acc: 0.9791 - val_loss: 1.7847 - val_acc: 0.7596\n",
            "Epoch 10/10\n",
            "326/326 [==============================] - 66s 203ms/step - loss: 0.0677 - acc: 0.9820 - val_loss: 1.6748 - val_acc: 0.7548\n"
          ],
          "name": "stdout"
        }
      ]
    },
    {
      "metadata": {
        "id": "FgOEdZP8kdyp",
        "colab_type": "code",
        "colab": {}
      },
      "cell_type": "code",
      "source": [
        "from sklearn.metrics import classification_report"
      ],
      "execution_count": 0,
      "outputs": []
    },
    {
      "metadata": {
        "id": "7ia1YXgxlEUg",
        "colab_type": "code",
        "outputId": "d4e4d4ef-16d5-4060-fed4-72e6e00024a0",
        "colab": {
          "base_uri": "https://localhost:8080/",
          "height": 34
        }
      },
      "cell_type": "code",
      "source": [
        "test_images2 = generator_test.flow_from_directory(\n",
        "    test_dir,\n",
        "    batch_size=624,\n",
        "    target_size=(image_width, image_height),\n",
        "    class_mode='binary'\n",
        ")\n",
        "\n",
        "X, y = test_images2.next()"
      ],
      "execution_count": 0,
      "outputs": [
        {
          "output_type": "stream",
          "text": [
            "Found 624 images belonging to 2 classes.\n"
          ],
          "name": "stdout"
        }
      ]
    },
    {
      "metadata": {
        "id": "mKUJy_AglgDP",
        "colab_type": "code",
        "colab": {}
      },
      "cell_type": "code",
      "source": [
        "import numpy as np"
      ],
      "execution_count": 0,
      "outputs": []
    },
    {
      "metadata": {
        "id": "w-Wsg5xYl8-u",
        "colab_type": "code",
        "colab": {}
      },
      "cell_type": "code",
      "source": [
        "#for n in pred:\n",
        "  #print(n)"
      ],
      "execution_count": 0,
      "outputs": []
    },
    {
      "metadata": {
        "id": "8JmdBsghnjN6",
        "colab_type": "code",
        "colab": {}
      },
      "cell_type": "code",
      "source": [
        "\n"
      ],
      "execution_count": 0,
      "outputs": []
    },
    {
      "metadata": {
        "id": "3dSQmQ58ns7C",
        "colab_type": "code",
        "colab": {}
      },
      "cell_type": "code",
      "source": [
        "#print(pred)"
      ],
      "execution_count": 0,
      "outputs": []
    },
    {
      "metadata": {
        "id": "VqKGx6NKkgAb",
        "colab_type": "code",
        "outputId": "52fb1b2b-846b-4e29-f874-d6885a502854",
        "colab": {
          "base_uri": "https://localhost:8080/",
          "height": 187
        }
      },
      "cell_type": "code",
      "source": [
        "pred = model.predict(X, batch_size=16, verbose=1)\n",
        "#predicted = [np.argmax(pred, axis=1)]\n",
        "pred[pred>0.5] = 1\n",
        "pred[pred<=0.5] = 0\n",
        "report = classification_report(y, pred)\n",
        "print(report)"
      ],
      "execution_count": 0,
      "outputs": [
        {
          "output_type": "stream",
          "text": [
            "624/624 [==============================] - 0s 563us/step\n",
            "              precision    recall  f1-score   support\n",
            "\n",
            "         0.0       0.97      0.36      0.52       234\n",
            "         1.0       0.72      0.99      0.83       390\n",
            "\n",
            "   micro avg       0.75      0.75      0.75       624\n",
            "   macro avg       0.84      0.68      0.68       624\n",
            "weighted avg       0.81      0.75      0.72       624\n",
            "\n"
          ],
          "name": "stdout"
        }
      ]
    },
    {
      "metadata": {
        "id": "nruiSZs-3aXG",
        "colab_type": "text"
      },
      "cell_type": "markdown",
      "source": [
        "## Making a deeper model"
      ]
    },
    {
      "metadata": {
        "id": "_jIQ1loT3cwI",
        "colab_type": "code",
        "colab": {}
      },
      "cell_type": "code",
      "source": [
        "model = Sequential()\n",
        "model.add(Conv2D(32, (3, 3), input_shape=input_shape))\n",
        "model.add(Activation('relu'))\n",
        "model.add(MaxPooling2D(pool_size=(2, 2)))\n",
        "\n",
        "\n",
        "model.add(Conv2D(32, (3, 3)))\n",
        "model.add(Activation('relu'))\n",
        "\n",
        "model.add(Conv2D(32, (3, 3)))\n",
        "model.add(Activation('relu'))\n",
        "model.add(MaxPooling2D(pool_size=(2, 2)))\n",
        "\n",
        "model.add(Conv2D(16, (3, 3)))\n",
        "model.add(Activation('relu'))\n",
        "model.add(MaxPooling2D(pool_size=(2, 2)))\n",
        "\n",
        "\n",
        "model.add(Conv2D(16, (3, 3)))\n",
        "model.add(Activation('relu'))\n",
        "model.add(MaxPooling2D(pool_size=(2, 2)))\n",
        "\n",
        "model.add(Conv2D(64, (3, 3)))\n",
        "model.add(Activation('relu'))\n",
        "model.add(MaxPooling2D(pool_size=(2, 2)))\n",
        "\n",
        "\n",
        "\n",
        "model.add(Flatten())\n",
        "model.add(Dense(64))\n",
        "model.add(Activation('relu'))\n",
        "model.add(Dropout(0.5))\n",
        "model.add(Dense(64))\n",
        "model.add(Activation('relu'))\n",
        "model.add(Dropout(0.5))\n",
        "model.add(Dense(1))\n",
        "model.add(Activation('sigmoid'))\n",
        "\n",
        "model.compile(loss='binary_crossentropy',\n",
        "              optimizer='rmsprop',\n",
        "              metrics=['accuracy'])"
      ],
      "execution_count": 0,
      "outputs": []
    },
    {
      "metadata": {
        "id": "90sxo-LM_YS3",
        "colab_type": "code",
        "outputId": "b2b39387-89fe-4879-f3ba-fd4541f9157a",
        "colab": {
          "base_uri": "https://localhost:8080/",
          "height": 850
        }
      },
      "cell_type": "code",
      "source": [
        "model.summary()"
      ],
      "execution_count": 0,
      "outputs": [
        {
          "output_type": "stream",
          "text": [
            "_________________________________________________________________\n",
            "Layer (type)                 Output Shape              Param #   \n",
            "=================================================================\n",
            "conv2d_4 (Conv2D)            (None, 126, 126, 32)      896       \n",
            "_________________________________________________________________\n",
            "activation_6 (Activation)    (None, 126, 126, 32)      0         \n",
            "_________________________________________________________________\n",
            "max_pooling2d_4 (MaxPooling2 (None, 63, 63, 32)        0         \n",
            "_________________________________________________________________\n",
            "conv2d_5 (Conv2D)            (None, 61, 61, 32)        9248      \n",
            "_________________________________________________________________\n",
            "activation_7 (Activation)    (None, 61, 61, 32)        0         \n",
            "_________________________________________________________________\n",
            "max_pooling2d_5 (MaxPooling2 (None, 30, 30, 32)        0         \n",
            "_________________________________________________________________\n",
            "conv2d_6 (Conv2D)            (None, 28, 28, 16)        4624      \n",
            "_________________________________________________________________\n",
            "activation_8 (Activation)    (None, 28, 28, 16)        0         \n",
            "_________________________________________________________________\n",
            "max_pooling2d_6 (MaxPooling2 (None, 14, 14, 16)        0         \n",
            "_________________________________________________________________\n",
            "conv2d_7 (Conv2D)            (None, 12, 12, 16)        2320      \n",
            "_________________________________________________________________\n",
            "activation_9 (Activation)    (None, 12, 12, 16)        0         \n",
            "_________________________________________________________________\n",
            "max_pooling2d_7 (MaxPooling2 (None, 6, 6, 16)          0         \n",
            "_________________________________________________________________\n",
            "conv2d_8 (Conv2D)            (None, 4, 4, 64)          9280      \n",
            "_________________________________________________________________\n",
            "activation_10 (Activation)   (None, 4, 4, 64)          0         \n",
            "_________________________________________________________________\n",
            "max_pooling2d_8 (MaxPooling2 (None, 2, 2, 64)          0         \n",
            "_________________________________________________________________\n",
            "flatten_3 (Flatten)          (None, 256)               0         \n",
            "_________________________________________________________________\n",
            "dense_5 (Dense)              (None, 64)                16448     \n",
            "_________________________________________________________________\n",
            "activation_11 (Activation)   (None, 64)                0         \n",
            "_________________________________________________________________\n",
            "dropout_3 (Dropout)          (None, 64)                0         \n",
            "_________________________________________________________________\n",
            "dense_6 (Dense)              (None, 1)                 65        \n",
            "_________________________________________________________________\n",
            "activation_12 (Activation)   (None, 1)                 0         \n",
            "=================================================================\n",
            "Total params: 42,881\n",
            "Trainable params: 42,881\n",
            "Non-trainable params: 0\n",
            "_________________________________________________________________\n"
          ],
          "name": "stdout"
        }
      ]
    },
    {
      "metadata": {
        "id": "pIaVQ4Au9-l8",
        "colab_type": "code",
        "outputId": "7eb4d1bc-7a04-4729-d59b-f0f97c71d49f",
        "colab": {
          "base_uri": "https://localhost:8080/",
          "height": 357
        }
      },
      "cell_type": "code",
      "source": [
        "history= model.fit_generator(\n",
        "    train_images,\n",
        "    steps_per_epoch=epoch_steps,\n",
        "    epochs=10,\n",
        "    validation_data=test_images,\n",
        "    validation_steps=test_steps)"
      ],
      "execution_count": 0,
      "outputs": [
        {
          "output_type": "stream",
          "text": [
            "Epoch 1/10\n",
            "326/326 [==============================] - 70s 214ms/step - loss: 0.5434 - acc: 0.7515 - val_loss: 0.4019 - val_acc: 0.8189\n",
            "Epoch 2/10\n",
            "326/326 [==============================] - 67s 205ms/step - loss: 0.3079 - acc: 0.8702 - val_loss: 0.4494 - val_acc: 0.8029\n",
            "Epoch 3/10\n",
            "326/326 [==============================] - 68s 208ms/step - loss: 0.2131 - acc: 0.9185 - val_loss: 0.6091 - val_acc: 0.8317\n",
            "Epoch 4/10\n",
            "326/326 [==============================] - 67s 206ms/step - loss: 0.1745 - acc: 0.9383 - val_loss: 0.3235 - val_acc: 0.8718\n",
            "Epoch 5/10\n",
            "326/326 [==============================] - 66s 204ms/step - loss: 0.1602 - acc: 0.9413 - val_loss: 0.4740 - val_acc: 0.8446\n",
            "Epoch 6/10\n",
            "326/326 [==============================] - 67s 205ms/step - loss: 0.1445 - acc: 0.9511 - val_loss: 0.3413 - val_acc: 0.8574\n",
            "Epoch 7/10\n",
            "326/326 [==============================] - 67s 207ms/step - loss: 0.1388 - acc: 0.9517 - val_loss: 0.8059 - val_acc: 0.7997\n",
            "Epoch 8/10\n",
            "326/326 [==============================] - 68s 208ms/step - loss: 0.1313 - acc: 0.9586 - val_loss: 0.2783 - val_acc: 0.9199\n",
            "Epoch 9/10\n",
            "326/326 [==============================] - 66s 202ms/step - loss: 0.1336 - acc: 0.9590 - val_loss: 0.9376 - val_acc: 0.8061\n",
            "Epoch 10/10\n",
            "326/326 [==============================] - 67s 206ms/step - loss: 0.1223 - acc: 0.9601 - val_loss: 0.4487 - val_acc: 0.8814\n"
          ],
          "name": "stdout"
        }
      ]
    },
    {
      "metadata": {
        "id": "QiaVf1ss7Rdy",
        "colab_type": "text"
      },
      "cell_type": "markdown",
      "source": [
        "### Tranfer learning Mobile Net"
      ]
    },
    {
      "metadata": {
        "id": "54uyxuuC7UCa",
        "colab_type": "code",
        "colab": {}
      },
      "cell_type": "code",
      "source": [
        "from keras.preprocessing.image import ImageDataGenerator\n",
        "from keras import applications\n",
        "import numpy as np\n",
        "from keras.layers import ZeroPadding2D"
      ],
      "execution_count": 0,
      "outputs": []
    },
    {
      "metadata": {
        "id": "maDf5CYo7XgE",
        "colab_type": "code",
        "colab": {}
      },
      "cell_type": "code",
      "source": [
        "top_model_weights_path = 'bottleneck_fc_model.h5'\n",
        "img_width, img_height= 128, 128\n",
        "train_data_dir = os.path.join(work_dir, \"chest_xray\", 'train')\n",
        "validation_data_dir = os.path.join(work_dir, \"chest_xray\", 'test')\n",
        "batch_size = 16\n",
        "nb_train_samples = len(train_normal)+ len(train_neumonia) -2\n",
        "nb_validation_samples = len(test_normal)+ len(test_neumonia) \n",
        "#image_height, image_width = 128,128\n",
        "\n",
        "\n",
        "\n"
      ],
      "execution_count": 0,
      "outputs": []
    },
    {
      "metadata": {
        "id": "z7MkeOYJ7rZw",
        "colab_type": "code",
        "colab": {}
      },
      "cell_type": "code",
      "source": [
        "datagen = ImageDataGenerator(rescale=1. / 255)"
      ],
      "execution_count": 0,
      "outputs": []
    },
    {
      "metadata": {
        "id": "ML1B7vRn7upU",
        "colab_type": "code",
        "colab": {}
      },
      "cell_type": "code",
      "source": [
        "model = applications.MobileNet(include_top=False, weights='imagenet'\n",
        "                               , input_shape=(img_width, img_height, 3))"
      ],
      "execution_count": 0,
      "outputs": []
    },
    {
      "metadata": {
        "id": "y7UzGkSw7xE-",
        "colab_type": "code",
        "outputId": "814f4e70-3cae-44ad-df35-89ca017f8192",
        "colab": {
          "base_uri": "https://localhost:8080/",
          "height": 34
        }
      },
      "cell_type": "code",
      "source": [
        "generator = datagen.flow_from_directory(\n",
        "    train_data_dir,\n",
        "    target_size=(img_width, img_height),\n",
        "    batch_size=batch_size,\n",
        "    class_mode=None,\n",
        "    shuffle=False)\n"
      ],
      "execution_count": 0,
      "outputs": [
        {
          "output_type": "stream",
          "text": [
            "Found 5216 images belonging to 2 classes.\n"
          ],
          "name": "stdout"
        }
      ]
    },
    {
      "metadata": {
        "id": "fTSBw2bS8Zsx",
        "colab_type": "code",
        "colab": {}
      },
      "cell_type": "code",
      "source": [
        "bottleneck_features_train = model.predict_generator(\n",
        "    generator, nb_train_samples // batch_size)"
      ],
      "execution_count": 0,
      "outputs": []
    },
    {
      "metadata": {
        "id": "rdLi1bhG8aEK",
        "colab_type": "code",
        "colab": {}
      },
      "cell_type": "code",
      "source": [
        "np.save('bottleneck_features_train.npy',\n",
        "        bottleneck_features_train)"
      ],
      "execution_count": 0,
      "outputs": []
    },
    {
      "metadata": {
        "id": "3T3swvYX8bwS",
        "colab_type": "code",
        "outputId": "036e623f-b601-4f45-8580-f7fb5e2f3814",
        "colab": {
          "base_uri": "https://localhost:8080/",
          "height": 34
        }
      },
      "cell_type": "code",
      "source": [
        "generator = datagen.flow_from_directory(\n",
        "    validation_data_dir,\n",
        "    target_size=(img_width, img_height),\n",
        "    batch_size=batch_size,\n",
        "    class_mode=None,\n",
        "    shuffle=False)"
      ],
      "execution_count": 0,
      "outputs": [
        {
          "output_type": "stream",
          "text": [
            "Found 624 images belonging to 2 classes.\n"
          ],
          "name": "stdout"
        }
      ]
    },
    {
      "metadata": {
        "id": "-mdZdgiR8mis",
        "colab_type": "code",
        "colab": {}
      },
      "cell_type": "code",
      "source": [
        "bottleneck_features_validation = model.predict_generator(\n",
        "    generator, nb_validation_samples // batch_size)"
      ],
      "execution_count": 0,
      "outputs": []
    },
    {
      "metadata": {
        "id": "SxbX3bIH8pFC",
        "colab_type": "code",
        "colab": {}
      },
      "cell_type": "code",
      "source": [
        "np.save('bottleneck_features_validation.npy',\n",
        "        bottleneck_features_validation)"
      ],
      "execution_count": 0,
      "outputs": []
    },
    {
      "metadata": {
        "id": "0Lc0Doyf8rcq",
        "colab_type": "code",
        "colab": {}
      },
      "cell_type": "code",
      "source": [
        "train_data = np.load('bottleneck_features_train.npy')\n",
        "train_labels = np.array(\n",
        "    [0] * int(nb_train_samples / 2) + [1] * int(nb_train_samples / 2))"
      ],
      "execution_count": 0,
      "outputs": []
    },
    {
      "metadata": {
        "id": "AUOyp61D9SwE",
        "colab_type": "code",
        "outputId": "655a8e31-8047-47eb-f270-133a705c8d18",
        "colab": {
          "base_uri": "https://localhost:8080/",
          "height": 34
        }
      },
      "cell_type": "code",
      "source": [
        "print(train_labels)"
      ],
      "execution_count": 0,
      "outputs": [
        {
          "output_type": "stream",
          "text": [
            "[0 0 0 ... 1 1 1]\n"
          ],
          "name": "stdout"
        }
      ]
    },
    {
      "metadata": {
        "id": "xts9Yxh68vRI",
        "colab_type": "code",
        "colab": {}
      },
      "cell_type": "code",
      "source": [
        "\n",
        "validation_data = np.load('bottleneck_features_validation.npy')\n",
        "validation_labels = np.array(\n",
        "    [0] * int(nb_validation_samples / 2) + [1] * int(nb_validation_samples / 2))"
      ],
      "execution_count": 0,
      "outputs": []
    },
    {
      "metadata": {
        "id": "aY78NAK48xEK",
        "colab_type": "code",
        "colab": {}
      },
      "cell_type": "code",
      "source": [
        "\n",
        "model = Sequential()\n",
        "model.add(ZeroPadding2D((1,1),input_shape=(128,128,3)))\n",
        "model.add(Conv2D(64, (3, 3), activation='relu'))\n",
        "model.add(ZeroPadding2D((1,1)))\n",
        "model.add(Conv2D(64, (3, 3), activation='relu'))\n",
        "model.add(MaxPooling2D((2,2), strides=(2,2)))\n",
        "\n",
        "model.add(ZeroPadding2D((1,1)))\n",
        "model.add(Conv2D(128, (3, 3), activation='relu'))\n",
        "model.add(ZeroPadding2D((1,1)))\n",
        "model.add(Conv2D(128, (3, 3), activation='relu'))\n",
        "model.add(MaxPooling2D((2,2), strides=(2,2)))\n",
        "\n",
        "model.add(ZeroPadding2D((1,1)))\n",
        "model.add(Conv2D(256, (3, 3), activation='relu'))\n",
        "model.add(ZeroPadding2D((1,1)))\n",
        "model.add(Conv2D(256, (3, 3), activation='relu'))\n",
        "model.add(ZeroPadding2D((1,1)))\n",
        "model.add(Conv2D(256, (3, 3), activation='relu'))\n",
        "model.add(MaxPooling2D((2,2), strides=(2,2)))\n",
        "\n",
        "model.add(ZeroPadding2D((1,1)))\n",
        "model.add(Conv2D(512, (3, 3), activation='relu'))\n",
        "model.add(ZeroPadding2D((1,1)))\n",
        "model.add(Conv2D(512, (3, 3), activation='relu'))\n",
        "model.add(ZeroPadding2D((1,1)))\n",
        "model.add(Conv2D(512, (3, 3), activation='relu'))\n",
        "model.add(MaxPooling2D((2,2), strides=(2,2)))\n",
        "\n",
        "model.add(ZeroPadding2D((1,1)))\n",
        "model.add(Conv2D(512, (3, 3), activation='relu'))\n",
        "model.add(ZeroPadding2D((1,1)))\n",
        "model.add(Conv2D(512, (3, 3), activation='relu'))\n",
        "model.add(ZeroPadding2D((1,1)))\n",
        "model.add(Conv2D(512, (3, 3), activation='relu'))\n",
        "model.add(MaxPooling2D((2,2), strides=(2,2)))\n",
        "\n",
        "model.add(Flatten())\n",
        "model.add(Dense(4096, activation='relu'))\n",
        "model.add(Dropout(0.5))\n",
        "model.add(Dense(4096, activation='relu'))\n",
        "model.add(Dropout(0.5))\n",
        "model.add(Dense(1, activation='sigmoid'))"
      ],
      "execution_count": 0,
      "outputs": []
    },
    {
      "metadata": {
        "id": "EerJqhYg80Jp",
        "colab_type": "code",
        "colab": {}
      },
      "cell_type": "code",
      "source": [
        "\n",
        "model.compile(loss='binary_crossentropy',\n",
        "              optimizer='rmsprop',\n",
        "              metrics=['accuracy'])"
      ],
      "execution_count": 0,
      "outputs": []
    },
    {
      "metadata": {
        "id": "YNOVEzAMJRJt",
        "colab_type": "code",
        "outputId": "6c94293d-cf14-4baf-e3b7-bf0c42de6bb7",
        "colab": {
          "base_uri": "https://localhost:8080/",
          "height": 187
        }
      },
      "cell_type": "code",
      "source": [
        "history= model.fit_generator(\n",
        "    train_images,\n",
        "    steps_per_epoch=epoch_steps,\n",
        "    epochs=5,\n",
        "    validation_data=test_images,\n",
        "    validation_steps=test_steps)"
      ],
      "execution_count": 0,
      "outputs": [
        {
          "output_type": "stream",
          "text": [
            "Epoch 1/5\n",
            "326/326 [==============================] - 92s 284ms/step - loss: 4.1506 - acc: 0.7396 - val_loss: 5.6718 - val_acc: 0.6442\n",
            "Epoch 2/5\n",
            "326/326 [==============================] - 91s 278ms/step - loss: 4.0712 - acc: 0.7446 - val_loss: 6.4383 - val_acc: 0.5962\n",
            "Epoch 3/5\n",
            "326/326 [==============================] - 90s 277ms/step - loss: 4.1048 - acc: 0.7425 - val_loss: 5.5441 - val_acc: 0.6522\n",
            "Epoch 4/5\n",
            "326/326 [==============================] - 91s 278ms/step - loss: 4.1690 - acc: 0.7385 - val_loss: 6.1572 - val_acc: 0.6138\n",
            "Epoch 5/5\n",
            "326/326 [==============================] - 90s 276ms/step - loss: 4.0467 - acc: 0.7462 - val_loss: 6.1317 - val_acc: 0.6154\n"
          ],
          "name": "stdout"
        }
      ]
    },
    {
      "metadata": {
        "id": "dJA2eIsuJhPG",
        "colab_type": "text"
      },
      "cell_type": "markdown",
      "source": [
        "### Data augmetation"
      ]
    },
    {
      "metadata": {
        "id": "iT30wV74JWbq",
        "colab_type": "code",
        "colab": {}
      },
      "cell_type": "code",
      "source": [
        "\n",
        "\n",
        "generator_train = ImageDataGenerator(rescale=1. / 255)"
      ],
      "execution_count": 0,
      "outputs": []
    },
    {
      "metadata": {
        "id": "titNwMThKLAe",
        "colab_type": "code",
        "outputId": "676c7216-bb0f-4535-d627-f0f49fc6cd4c",
        "colab": {
          "base_uri": "https://localhost:8080/",
          "height": 51
        }
      },
      "cell_type": "code",
      "source": [
        "train_images = generator_train.flow_from_directory(\n",
        "    train_dir,\n",
        "    batch_size=batch_size,\n",
        "    target_size=(226, 226),\n",
        "    class_mode='binary'\n",
        ")\n",
        "\n",
        "test_images = generator_test.flow_from_directory(\n",
        "    test_dir,\n",
        "    batch_size=batch_size,\n",
        "    target_size=(226, 226),\n",
        "    class_mode='binary'\n",
        ")"
      ],
      "execution_count": 0,
      "outputs": [
        {
          "output_type": "stream",
          "text": [
            "Found 5216 images belonging to 2 classes.\n",
            "Found 624 images belonging to 2 classes.\n"
          ],
          "name": "stdout"
        }
      ]
    },
    {
      "metadata": {
        "id": "9-1lX-ZhKLhB",
        "colab_type": "code",
        "colab": {}
      },
      "cell_type": "code",
      "source": [
        "\n",
        "model = Sequential()\n",
        "model.add(Conv2D(16, (3, 3),input_shape=(226,226,3)))\n",
        "model.add(Conv2D(16, (3, 3), activation='relu'))\n",
        "model.add(Conv2D(16, (3, 3), activation='relu'))\n",
        "model.add(MaxPooling2D((2,2), strides=(2,2)))\n",
        "\n",
        "model.add(Conv2D(32, (3, 3), activation='relu'))\n",
        "model.add(Conv2D(32, (3, 3), activation='relu'))\n",
        "model.add(Conv2D(32, (3, 3), activation='relu'))\n",
        "model.add(MaxPooling2D((2,2), strides=(2,2)))\n",
        "\n",
        "model.add(Conv2D(64, (3, 3), activation='relu'))\n",
        "model.add(Conv2D(64, (3, 3), activation='relu'))\n",
        "model.add(Conv2D(64, (3, 3), activation='relu'))\n",
        "model.add(MaxPooling2D((2,2), strides=(2,2)))\n",
        "\n",
        "model.add(Conv2D(128, (3, 3), activation='relu'))\n",
        "model.add(Conv2D(128, (3, 3), activation='relu'))\n",
        "model.add(Conv2D(128, (3, 3), activation='relu'))\n",
        "model.add(MaxPooling2D((2,2), strides=(2,2)))\n",
        "\n",
        "model.add(Flatten())\n",
        "model.add(Dense(256, activation='relu'))\n",
        "model.add(Dropout(0.5))\n",
        "model.add(Dense(256, activation='relu'))\n",
        "model.add(Dropout(0.5))\n",
        "model.add(Dense(1, activation='sigmoid'))"
      ],
      "execution_count": 0,
      "outputs": []
    },
    {
      "metadata": {
        "id": "8ZcalLXJLV-m",
        "colab_type": "code",
        "colab": {}
      },
      "cell_type": "code",
      "source": [
        "\n",
        "model.compile(loss='binary_crossentropy',\n",
        "              optimizer='rmsprop',\n",
        "              metrics=['accuracy'])"
      ],
      "execution_count": 0,
      "outputs": []
    },
    {
      "metadata": {
        "id": "_lYUPrmKLcAk",
        "colab_type": "code",
        "outputId": "abb4313c-6e12-4eaf-8613-7bc57367ab33",
        "colab": {
          "base_uri": "https://localhost:8080/",
          "height": 51
        }
      },
      "cell_type": "code",
      "source": [
        "print(epoch_steps)\n",
        "print(batch_size)"
      ],
      "execution_count": 0,
      "outputs": [
        {
          "output_type": "stream",
          "text": [
            "326\n",
            "16\n"
          ],
          "name": "stdout"
        }
      ]
    },
    {
      "metadata": {
        "id": "k_tQ2esSLYV1",
        "colab_type": "code",
        "outputId": "7684987a-b0e3-4499-c510-20d05a12e141",
        "colab": {
          "base_uri": "https://localhost:8080/",
          "height": 3417
        }
      },
      "cell_type": "code",
      "source": [
        "history= model.fit_generator(\n",
        "    train_images,\n",
        "    steps_per_epoch=epoch_steps,\n",
        "    epochs=100,\n",
        "    validation_data=test_images,\n",
        "    validation_steps=test_steps)"
      ],
      "execution_count": 0,
      "outputs": [
        {
          "output_type": "stream",
          "text": [
            "Epoch 1/100\n",
            "326/326 [==============================] - 81s 249ms/step - loss: 0.5747 - acc: 0.7395 - val_loss: 0.6921 - val_acc: 0.6234\n",
            "Epoch 2/100\n",
            "326/326 [==============================] - 79s 243ms/step - loss: 0.5728 - acc: 0.7427 - val_loss: 0.6781 - val_acc: 0.6362\n",
            "Epoch 3/100\n",
            "326/326 [==============================] - 80s 244ms/step - loss: 0.5687 - acc: 0.7446 - val_loss: 0.6884 - val_acc: 0.6282\n",
            "Epoch 4/100\n",
            "326/326 [==============================] - 80s 245ms/step - loss: 0.5711 - acc: 0.7433 - val_loss: 0.6960 - val_acc: 0.6122\n",
            "Epoch 5/100\n",
            "326/326 [==============================] - 79s 242ms/step - loss: 0.5715 - acc: 0.7425 - val_loss: 0.6910 - val_acc: 0.6266\n",
            "Epoch 6/100\n",
            "326/326 [==============================] - 81s 247ms/step - loss: 0.5699 - acc: 0.7442 - val_loss: 0.7025 - val_acc: 0.6218\n",
            "Epoch 7/100\n",
            "326/326 [==============================] - 80s 245ms/step - loss: 0.5712 - acc: 0.7439 - val_loss: 0.6988 - val_acc: 0.6282\n",
            "Epoch 8/100\n",
            "326/326 [==============================] - 80s 246ms/step - loss: 0.5744 - acc: 0.7406 - val_loss: 0.6809 - val_acc: 0.6346\n",
            "Epoch 9/100\n",
            "326/326 [==============================] - 79s 244ms/step - loss: 0.5722 - acc: 0.7433 - val_loss: 0.6988 - val_acc: 0.6202\n",
            "Epoch 10/100\n",
            "326/326 [==============================] - 79s 244ms/step - loss: 0.5729 - acc: 0.7425 - val_loss: 0.7030 - val_acc: 0.6202\n",
            "Epoch 11/100\n",
            "326/326 [==============================] - 79s 242ms/step - loss: 0.5718 - acc: 0.7431 - val_loss: 0.7035 - val_acc: 0.6170\n",
            "Epoch 12/100\n",
            "326/326 [==============================] - 79s 244ms/step - loss: 0.5742 - acc: 0.7404 - val_loss: 0.6703 - val_acc: 0.6426\n",
            "Epoch 13/100\n",
            "326/326 [==============================] - 79s 242ms/step - loss: 0.5672 - acc: 0.7469 - val_loss: 0.7095 - val_acc: 0.6186\n",
            "Epoch 14/100\n",
            "326/326 [==============================] - 79s 244ms/step - loss: 0.5720 - acc: 0.7429 - val_loss: 0.7088 - val_acc: 0.6218\n",
            "Epoch 15/100\n",
            "326/326 [==============================] - 79s 242ms/step - loss: 0.5720 - acc: 0.7425 - val_loss: 0.6854 - val_acc: 0.6378\n",
            "Epoch 16/100\n",
            "326/326 [==============================] - 79s 243ms/step - loss: 0.5704 - acc: 0.7441 - val_loss: 0.7428 - val_acc: 0.6010\n",
            "Epoch 17/100\n",
            "326/326 [==============================] - 79s 244ms/step - loss: 0.5734 - acc: 0.7423 - val_loss: 0.6928 - val_acc: 0.6298\n",
            "Epoch 18/100\n",
            "326/326 [==============================] - 79s 244ms/step - loss: 0.5715 - acc: 0.7425 - val_loss: 0.6908 - val_acc: 0.6314\n",
            "Epoch 19/100\n",
            "326/326 [==============================] - 81s 247ms/step - loss: 0.5729 - acc: 0.7425 - val_loss: 0.6878 - val_acc: 0.6298\n",
            "Epoch 20/100\n",
            "326/326 [==============================] - 80s 245ms/step - loss: 0.5751 - acc: 0.7402 - val_loss: 0.6837 - val_acc: 0.6250\n",
            "Epoch 21/100\n",
            "326/326 [==============================] - 80s 245ms/step - loss: 0.5703 - acc: 0.7437 - val_loss: 0.6991 - val_acc: 0.6154\n",
            "Epoch 22/100\n",
            "326/326 [==============================] - 80s 244ms/step - loss: 0.5702 - acc: 0.7442 - val_loss: 0.6958 - val_acc: 0.6202\n",
            "Epoch 23/100\n",
            "326/326 [==============================] - 79s 242ms/step - loss: 0.5718 - acc: 0.7423 - val_loss: 0.6970 - val_acc: 0.6234\n",
            "Epoch 24/100\n",
            "326/326 [==============================] - 78s 241ms/step - loss: 0.5722 - acc: 0.7423 - val_loss: 0.6689 - val_acc: 0.6474\n",
            "Epoch 25/100\n",
            "326/326 [==============================] - 79s 243ms/step - loss: 0.5697 - acc: 0.7442 - val_loss: 0.6995 - val_acc: 0.6186\n",
            "Epoch 26/100\n",
            "326/326 [==============================] - 79s 244ms/step - loss: 0.5717 - acc: 0.7425 - val_loss: 0.7066 - val_acc: 0.6122\n",
            "Epoch 27/100\n",
            "326/326 [==============================] - 80s 244ms/step - loss: 0.5682 - acc: 0.7460 - val_loss: 0.7063 - val_acc: 0.6346\n",
            "Epoch 28/100\n",
            "326/326 [==============================] - 79s 243ms/step - loss: 0.5718 - acc: 0.7429 - val_loss: 0.7160 - val_acc: 0.6266\n",
            "Epoch 29/100\n",
            "326/326 [==============================] - 80s 244ms/step - loss: 0.5724 - acc: 0.7419 - val_loss: 0.7165 - val_acc: 0.6186\n",
            "Epoch 30/100\n",
            "326/326 [==============================] - 79s 243ms/step - loss: 0.5716 - acc: 0.7435 - val_loss: 0.6978 - val_acc: 0.6298\n",
            "Epoch 31/100\n",
            "326/326 [==============================] - 79s 243ms/step - loss: 0.5736 - acc: 0.7406 - val_loss: 0.6821 - val_acc: 0.6330\n",
            "Epoch 32/100\n",
            "326/326 [==============================] - 79s 241ms/step - loss: 0.5716 - acc: 0.7433 - val_loss: 0.6951 - val_acc: 0.6218\n",
            "Epoch 33/100\n",
            "326/326 [==============================] - 80s 244ms/step - loss: 0.5725 - acc: 0.7435 - val_loss: 0.6961 - val_acc: 0.6234\n",
            "Epoch 34/100\n",
            "326/326 [==============================] - 79s 244ms/step - loss: 0.5738 - acc: 0.7412 - val_loss: 0.7036 - val_acc: 0.6202\n",
            "Epoch 35/100\n",
            "326/326 [==============================] - 80s 244ms/step - loss: 0.5702 - acc: 0.7444 - val_loss: 0.6925 - val_acc: 0.6298\n",
            "Epoch 36/100\n",
            "326/326 [==============================] - 80s 244ms/step - loss: 0.5723 - acc: 0.7416 - val_loss: 0.7126 - val_acc: 0.6138\n",
            "Epoch 37/100\n",
            "326/326 [==============================] - 79s 243ms/step - loss: 0.5687 - acc: 0.7450 - val_loss: 0.6947 - val_acc: 0.6314\n",
            "Epoch 38/100\n",
            "326/326 [==============================] - 81s 247ms/step - loss: 0.5751 - acc: 0.7387 - val_loss: 0.6785 - val_acc: 0.6298\n",
            "Epoch 39/100\n",
            "326/326 [==============================] - 80s 245ms/step - loss: 0.5674 - acc: 0.7458 - val_loss: 0.7002 - val_acc: 0.6154\n",
            "Epoch 40/100\n",
            "326/326 [==============================] - 80s 245ms/step - loss: 0.5749 - acc: 0.7398 - val_loss: 0.6735 - val_acc: 0.6362\n",
            "Epoch 41/100\n",
            "326/326 [==============================] - 79s 241ms/step - loss: 0.5699 - acc: 0.7454 - val_loss: 0.7016 - val_acc: 0.6202\n",
            "Epoch 42/100\n",
            "326/326 [==============================] - 79s 244ms/step - loss: 0.5701 - acc: 0.7442 - val_loss: 0.7061 - val_acc: 0.6202\n",
            "Epoch 43/100\n",
            "326/326 [==============================] - 79s 243ms/step - loss: 0.5720 - acc: 0.7419 - val_loss: 0.6911 - val_acc: 0.6298\n",
            "Epoch 44/100\n",
            "326/326 [==============================] - 79s 244ms/step - loss: 0.5711 - acc: 0.7431 - val_loss: 0.6941 - val_acc: 0.6234\n",
            "Epoch 45/100\n",
            "326/326 [==============================] - 79s 242ms/step - loss: 0.5728 - acc: 0.7421 - val_loss: 0.6954 - val_acc: 0.6266\n",
            "Epoch 46/100\n",
            "326/326 [==============================] - 79s 241ms/step - loss: 0.5716 - acc: 0.7429 - val_loss: 0.7064 - val_acc: 0.6186\n",
            "Epoch 47/100\n",
            "326/326 [==============================] - 79s 243ms/step - loss: 0.5727 - acc: 0.7421 - val_loss: 0.6773 - val_acc: 0.6394\n",
            "Epoch 48/100\n",
            "326/326 [==============================] - 80s 246ms/step - loss: 0.5728 - acc: 0.7412 - val_loss: 0.6881 - val_acc: 0.6218\n",
            "Epoch 49/100\n",
            "326/326 [==============================] - 80s 245ms/step - loss: 0.5686 - acc: 0.7460 - val_loss: 0.7060 - val_acc: 0.6218\n",
            "Epoch 50/100\n",
            "326/326 [==============================] - 80s 245ms/step - loss: 0.5698 - acc: 0.7450 - val_loss: 0.6923 - val_acc: 0.6362\n",
            "Epoch 51/100\n",
            "326/326 [==============================] - 81s 248ms/step - loss: 0.5729 - acc: 0.7421 - val_loss: 0.7195 - val_acc: 0.6058\n",
            "Epoch 52/100\n",
            "326/326 [==============================] - 80s 245ms/step - loss: 0.5760 - acc: 0.7395 - val_loss: 0.6894 - val_acc: 0.6282\n",
            "Epoch 53/100\n",
            "326/326 [==============================] - 80s 245ms/step - loss: 0.5693 - acc: 0.7450 - val_loss: 0.6836 - val_acc: 0.6362\n",
            "Epoch 54/100\n",
            "326/326 [==============================] - 80s 245ms/step - loss: 0.5707 - acc: 0.7431 - val_loss: 0.6998 - val_acc: 0.6186\n",
            "Epoch 55/100\n",
            "326/326 [==============================] - 80s 245ms/step - loss: 0.5708 - acc: 0.7437 - val_loss: 0.6965 - val_acc: 0.6250\n",
            "Epoch 56/100\n",
            "326/326 [==============================] - 79s 242ms/step - loss: 0.5726 - acc: 0.7418 - val_loss: 0.7048 - val_acc: 0.6202\n",
            "Epoch 57/100\n",
            "326/326 [==============================] - 80s 245ms/step - loss: 0.5721 - acc: 0.7429 - val_loss: 0.6928 - val_acc: 0.6298\n",
            "Epoch 58/100\n",
            "326/326 [==============================] - 80s 246ms/step - loss: 0.5723 - acc: 0.7425 - val_loss: 0.6941 - val_acc: 0.6234\n",
            "Epoch 59/100\n",
            "326/326 [==============================] - 81s 247ms/step - loss: 0.5697 - acc: 0.7441 - val_loss: 0.7013 - val_acc: 0.6266\n",
            "Epoch 60/100\n",
            "326/326 [==============================] - 79s 243ms/step - loss: 0.5726 - acc: 0.7416 - val_loss: 0.6958 - val_acc: 0.6250\n",
            "Epoch 61/100\n",
            "326/326 [==============================] - 79s 243ms/step - loss: 0.5741 - acc: 0.7419 - val_loss: 0.6896 - val_acc: 0.6266\n",
            "Epoch 62/100\n",
            "326/326 [==============================] - 81s 248ms/step - loss: 0.5704 - acc: 0.7433 - val_loss: 0.6959 - val_acc: 0.6170\n",
            "Epoch 63/100\n",
            "326/326 [==============================] - 79s 243ms/step - loss: 0.5709 - acc: 0.7435 - val_loss: 0.6916 - val_acc: 0.6346\n",
            "Epoch 64/100\n",
            "326/326 [==============================] - 79s 244ms/step - loss: 0.5727 - acc: 0.7418 - val_loss: 0.7031 - val_acc: 0.6122\n",
            "Epoch 65/100\n",
            "326/326 [==============================] - 79s 244ms/step - loss: 0.5687 - acc: 0.7456 - val_loss: 0.6997 - val_acc: 0.6266\n",
            "Epoch 66/100\n",
            "326/326 [==============================] - 80s 244ms/step - loss: 0.5706 - acc: 0.7437 - val_loss: 0.6852 - val_acc: 0.6330\n",
            "Epoch 67/100\n",
            "326/326 [==============================] - 79s 242ms/step - loss: 0.5742 - acc: 0.7410 - val_loss: 0.7086 - val_acc: 0.6154\n",
            "Epoch 68/100\n",
            "326/326 [==============================] - 80s 245ms/step - loss: 0.5718 - acc: 0.7423 - val_loss: 0.6960 - val_acc: 0.6234\n",
            "Epoch 69/100\n",
            "326/326 [==============================] - 80s 244ms/step - loss: 0.5715 - acc: 0.7427 - val_loss: 0.6884 - val_acc: 0.6314\n",
            "Epoch 70/100\n",
            "326/326 [==============================] - 80s 246ms/step - loss: 0.5695 - acc: 0.7444 - val_loss: 0.6988 - val_acc: 0.6298\n",
            "Epoch 71/100\n",
            "326/326 [==============================] - 79s 243ms/step - loss: 0.5703 - acc: 0.7435 - val_loss: 0.7044 - val_acc: 0.6234\n",
            "Epoch 72/100\n",
            "326/326 [==============================] - 79s 243ms/step - loss: 0.5726 - acc: 0.7418 - val_loss: 0.6909 - val_acc: 0.6234\n",
            "Epoch 73/100\n",
            "326/326 [==============================] - 80s 245ms/step - loss: 0.5727 - acc: 0.7412 - val_loss: 0.6775 - val_acc: 0.6346\n",
            "Epoch 74/100\n",
            "326/326 [==============================] - 79s 244ms/step - loss: 0.5717 - acc: 0.7433 - val_loss: 0.6881 - val_acc: 0.6282\n",
            "Epoch 75/100\n",
            "326/326 [==============================] - 79s 244ms/step - loss: 0.5712 - acc: 0.7437 - val_loss: 0.6781 - val_acc: 0.6346\n",
            "Epoch 76/100\n",
            "326/326 [==============================] - 79s 244ms/step - loss: 0.5701 - acc: 0.7442 - val_loss: 0.7154 - val_acc: 0.6138\n",
            "Epoch 77/100\n",
            "326/326 [==============================] - 79s 243ms/step - loss: 0.5725 - acc: 0.7429 - val_loss: 0.7013 - val_acc: 0.6154\n",
            "Epoch 78/100\n",
            "326/326 [==============================] - 80s 246ms/step - loss: 0.5742 - acc: 0.7416 - val_loss: 0.6946 - val_acc: 0.6186\n",
            "Epoch 79/100\n",
            "326/326 [==============================] - 80s 244ms/step - loss: 0.5734 - acc: 0.7404 - val_loss: 0.6761 - val_acc: 0.6314\n",
            "Epoch 80/100\n",
            "326/326 [==============================] - 79s 244ms/step - loss: 0.5683 - acc: 0.7464 - val_loss: 0.6766 - val_acc: 0.6426\n",
            "Epoch 81/100\n",
            "326/326 [==============================] - 80s 244ms/step - loss: 0.5719 - acc: 0.7423 - val_loss: 0.7218 - val_acc: 0.6026\n",
            "Epoch 82/100\n",
            "326/326 [==============================] - 80s 244ms/step - loss: 0.5715 - acc: 0.7423 - val_loss: 0.6730 - val_acc: 0.6410\n",
            "Epoch 83/100\n",
            "326/326 [==============================] - 79s 244ms/step - loss: 0.5692 - acc: 0.7446 - val_loss: 0.7063 - val_acc: 0.6218\n",
            "Epoch 84/100\n",
            "326/326 [==============================] - 80s 245ms/step - loss: 0.5747 - acc: 0.7410 - val_loss: 0.6996 - val_acc: 0.6202\n",
            "Epoch 85/100\n",
            "326/326 [==============================] - 80s 244ms/step - loss: 0.5705 - acc: 0.7448 - val_loss: 0.6928 - val_acc: 0.6346\n",
            "Epoch 86/100\n",
            "326/326 [==============================] - 80s 245ms/step - loss: 0.5717 - acc: 0.7425 - val_loss: 0.7026 - val_acc: 0.6138\n",
            "Epoch 87/100\n",
            "326/326 [==============================] - 79s 244ms/step - loss: 0.5738 - acc: 0.7412 - val_loss: 0.6827 - val_acc: 0.6298\n",
            "Epoch 88/100\n",
            "326/326 [==============================] - 79s 242ms/step - loss: 0.5699 - acc: 0.7441 - val_loss: 0.7037 - val_acc: 0.6250\n",
            "Epoch 89/100\n",
            "326/326 [==============================] - 79s 242ms/step - loss: 0.5703 - acc: 0.7431 - val_loss: 0.6940 - val_acc: 0.6250\n",
            "Epoch 90/100\n",
            "326/326 [==============================] - 79s 241ms/step - loss: 0.5711 - acc: 0.7427 - val_loss: 0.6998 - val_acc: 0.6218\n",
            "Epoch 91/100\n",
            "326/326 [==============================] - 80s 245ms/step - loss: 0.5727 - acc: 0.7421 - val_loss: 0.6990 - val_acc: 0.6154\n",
            "Epoch 92/100\n",
            "326/326 [==============================] - 80s 244ms/step - loss: 0.5711 - acc: 0.7435 - val_loss: 0.6910 - val_acc: 0.6266\n",
            "Epoch 93/100\n",
            "326/326 [==============================] - 80s 244ms/step - loss: 0.5713 - acc: 0.7427 - val_loss: 0.6854 - val_acc: 0.6330\n",
            "Epoch 94/100\n",
            "326/326 [==============================] - 80s 245ms/step - loss: 0.5718 - acc: 0.7429 - val_loss: 0.6910 - val_acc: 0.6250\n",
            "Epoch 95/100\n",
            "326/326 [==============================] - 79s 243ms/step - loss: 0.5702 - acc: 0.7439 - val_loss: 0.7090 - val_acc: 0.6250\n",
            "Epoch 96/100\n",
            "326/326 [==============================] - 79s 242ms/step - loss: 0.5734 - acc: 0.7418 - val_loss: 0.6948 - val_acc: 0.6266\n",
            "Epoch 97/100\n",
            "326/326 [==============================] - 79s 243ms/step - loss: 0.5698 - acc: 0.7431 - val_loss: 0.6997 - val_acc: 0.6234\n",
            "Epoch 98/100\n",
            "326/326 [==============================] - 78s 239ms/step - loss: 0.5690 - acc: 0.7439 - val_loss: 0.6783 - val_acc: 0.6362\n",
            "Epoch 99/100\n",
            "326/326 [==============================] - 79s 243ms/step - loss: 0.5729 - acc: 0.7418 - val_loss: 0.7100 - val_acc: 0.6106\n",
            "Epoch 100/100\n",
            "326/326 [==============================] - 80s 244ms/step - loss: 0.5706 - acc: 0.7441 - val_loss: 0.6990 - val_acc: 0.6218\n"
          ],
          "name": "stdout"
        }
      ]
    }
  ]
}