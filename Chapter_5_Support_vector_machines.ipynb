{
  "nbformat": 4,
  "nbformat_minor": 0,
  "metadata": {
    "colab": {
      "name": "Chapter 5 Support vector machines.ipynb",
      "version": "0.3.2",
      "provenance": [],
      "collapsed_sections": [],
      "include_colab_link": true
    },
    "kernelspec": {
      "name": "python3",
      "display_name": "Python 3"
    }
  },
  "cells": [
    {
      "cell_type": "markdown",
      "metadata": {
        "id": "view-in-github",
        "colab_type": "text"
      },
      "source": [
        "<a href=\"https://colab.research.google.com/github/dasalgadob/handson-machine-learning/blob/master/Chapter_5_Support_vector_machines.ipynb\" target=\"_parent\"><img src=\"https://colab.research.google.com/assets/colab-badge.svg\" alt=\"Open In Colab\"/></a>"
      ]
    },
    {
      "metadata": {
        "id": "C7dS3qDlUG1K",
        "colab_type": "code",
        "colab": {}
      },
      "cell_type": "code",
      "source": [
        "import numpy as np\n",
        "from sklearn import datasets\n",
        "from sklearn.pipeline import Pipeline\n",
        "from sklearn.preprocessing import StandardScaler\n",
        "from sklearn.svm import LinearSVC\n",
        "from sklearn.model_selection import train_test_split\n",
        "from sklearn.model_selection import GridSearchCV"
      ],
      "execution_count": 0,
      "outputs": []
    },
    {
      "metadata": {
        "id": "X1FjHvbUUOEE",
        "colab_type": "code",
        "colab": {
          "base_uri": "https://localhost:8080/",
          "height": 105
        },
        "outputId": "d8372fa3-c9d8-4797-c88f-73608cc4a134"
      },
      "cell_type": "code",
      "source": [
        "iris = datasets.load_iris()\n",
        "X = iris[\"data\"][:, (2, 3)] # petal length, petal width\n",
        "y = (iris[\"target\"] == 2).astype(np.float64) # Iris-Virginica\n",
        "svm_clf = Pipeline((\n",
        "(\"scaler\", StandardScaler()),\n",
        "(\"linear_svc\", LinearSVC(C=1, loss=\"hinge\")),\n",
        "))\n",
        "svm_clf.fit(X, y)"
      ],
      "execution_count": 3,
      "outputs": [
        {
          "output_type": "execute_result",
          "data": {
            "text/plain": [
              "Pipeline(memory=None,\n",
              "     steps=[('scaler', StandardScaler(copy=True, with_mean=True, with_std=True)), ('linear_svc', LinearSVC(C=1, class_weight=None, dual=True, fit_intercept=True,\n",
              "     intercept_scaling=1, loss='hinge', max_iter=1000, multi_class='ovr',\n",
              "     penalty='l2', random_state=None, tol=0.0001, verbose=0))])"
            ]
          },
          "metadata": {
            "tags": []
          },
          "execution_count": 3
        }
      ]
    },
    {
      "metadata": {
        "id": "MTX8BWTAWFtD",
        "colab_type": "code",
        "colab": {}
      },
      "cell_type": "code",
      "source": [
        "X_train, X_test, y_train, y_test = train_test_split( X, y, test_size=0.3, random_state=42)"
      ],
      "execution_count": 0,
      "outputs": []
    },
    {
      "metadata": {
        "id": "w4Z-mTzSV2YK",
        "colab_type": "code",
        "colab": {
          "base_uri": "https://localhost:8080/",
          "height": 34
        },
        "outputId": "cf532d54-e70d-4d14-8999-27d235e16bcb"
      },
      "cell_type": "code",
      "source": [
        "print(X.shape)"
      ],
      "execution_count": 8,
      "outputs": [
        {
          "output_type": "stream",
          "text": [
            "(150, 2)\n"
          ],
          "name": "stdout"
        }
      ]
    },
    {
      "metadata": {
        "id": "ruHeCGgmUc2y",
        "colab_type": "code",
        "colab": {
          "base_uri": "https://localhost:8080/",
          "height": 34
        },
        "outputId": "f73fa44a-0d8b-496b-dcd5-05ffa8f30d42"
      },
      "cell_type": "code",
      "source": [
        "svm_clf.predict([[5.5, 1.7]])"
      ],
      "execution_count": 4,
      "outputs": [
        {
          "output_type": "execute_result",
          "data": {
            "text/plain": [
              "array([1.])"
            ]
          },
          "metadata": {
            "tags": []
          },
          "execution_count": 4
        }
      ]
    },
    {
      "metadata": {
        "id": "Dq1Oy5PdU7ed",
        "colab_type": "text"
      },
      "cell_type": "markdown",
      "source": [
        "### nonlinear SVM Classification"
      ]
    },
    {
      "metadata": {
        "id": "8U6Nul6aUdPE",
        "colab_type": "code",
        "colab": {}
      },
      "cell_type": "code",
      "source": [
        "from sklearn.datasets import make_moons\n",
        "from sklearn.pipeline import Pipeline\n",
        "from sklearn.preprocessing import PolynomialFeatures"
      ],
      "execution_count": 0,
      "outputs": []
    },
    {
      "metadata": {
        "id": "g5LuHzpqVEKv",
        "colab_type": "code",
        "colab": {
          "base_uri": "https://localhost:8080/",
          "height": 105
        },
        "outputId": "0e300cbb-b620-4f21-cce9-e4bbfc145f68"
      },
      "cell_type": "code",
      "source": [
        "polynomial_svm_clf = Pipeline((\n",
        "(\"poly_features\", PolynomialFeatures(degree=3)),\n",
        "(\"scaler\", StandardScaler()),\n",
        "(\"svm_clf\", LinearSVC(C=10, loss=\"hinge\"))\n",
        "))\n",
        "polynomial_svm_clf.fit(X, y)"
      ],
      "execution_count": 6,
      "outputs": [
        {
          "output_type": "execute_result",
          "data": {
            "text/plain": [
              "Pipeline(memory=None,\n",
              "     steps=[('poly_features', PolynomialFeatures(degree=3, include_bias=True, interaction_only=False)), ('scaler', StandardScaler(copy=True, with_mean=True, with_std=True)), ('svm_clf', LinearSVC(C=10, class_weight=None, dual=True, fit_intercept=True,\n",
              "     intercept_scaling=1, loss='hinge', max_iter=1000, multi_class='ovr',\n",
              "     penalty='l2', random_state=None, tol=0.0001, verbose=0))])"
            ]
          },
          "metadata": {
            "tags": []
          },
          "execution_count": 6
        }
      ]
    },
    {
      "metadata": {
        "id": "5qCVCXUYVUaA",
        "colab_type": "text"
      },
      "cell_type": "markdown",
      "source": [
        "### polinomial kernel"
      ]
    },
    {
      "metadata": {
        "id": "Mi4IPbaHVHaM",
        "colab_type": "code",
        "colab": {
          "base_uri": "https://localhost:8080/",
          "height": 102
        },
        "outputId": "bb35aab8-20e8-4043-ef33-efa0964c0ac0"
      },
      "cell_type": "code",
      "source": [
        "from sklearn.svm import SVC\n",
        "poly_kernel_svm_clf = Pipeline((\n",
        "(\"scaler\", StandardScaler()),\n",
        "(\"svm_clf\", SVC(kernel=\"poly\", degree=3, coef0=1, C=5))\n",
        "))\n",
        "poly_kernel_svm_clf.fit(X, y)"
      ],
      "execution_count": 7,
      "outputs": [
        {
          "output_type": "execute_result",
          "data": {
            "text/plain": [
              "Pipeline(memory=None,\n",
              "     steps=[('scaler', StandardScaler(copy=True, with_mean=True, with_std=True)), ('svm_clf', SVC(C=5, cache_size=200, class_weight=None, coef0=1,\n",
              "  decision_function_shape='ovr', degree=3, gamma='auto_deprecated',\n",
              "  kernel='poly', max_iter=-1, probability=False, random_state=None,\n",
              "  shrinking=True, tol=0.001, verbose=False))])"
            ]
          },
          "metadata": {
            "tags": []
          },
          "execution_count": 7
        }
      ]
    },
    {
      "metadata": {
        "id": "yjYsoEa9WuzR",
        "colab_type": "code",
        "colab": {}
      },
      "cell_type": "code",
      "source": [
        "svm_cla =  SVC(kernel=\"poly\", coef0=1, C=5, gamma= 'scale')"
      ],
      "execution_count": 0,
      "outputs": []
    },
    {
      "metadata": {
        "id": "QZj2sbCTVlnm",
        "colab_type": "code",
        "colab": {}
      },
      "cell_type": "code",
      "source": [
        "param_grid = [ {'degree': [2,3,4,5, 6, 7, 8] } ]"
      ],
      "execution_count": 0,
      "outputs": []
    },
    {
      "metadata": {
        "id": "sDNnzhFRWhuD",
        "colab_type": "code",
        "colab": {
          "base_uri": "https://localhost:8080/",
          "height": 224
        },
        "outputId": "1503268d-b8b2-43b4-95cf-8705d5b4be5d"
      },
      "cell_type": "code",
      "source": [
        "grid_search = GridSearchCV(svm_cla, param_grid, cv=2,\n",
        "scoring='neg_mean_squared_error')\n",
        "grid_search.fit(X_train, y_train)"
      ],
      "execution_count": 30,
      "outputs": [
        {
          "output_type": "stream",
          "text": [
            "/usr/local/lib/python3.6/dist-packages/sklearn/model_selection/_search.py:841: DeprecationWarning: The default of the `iid` parameter will change from True to False in version 0.22 and will be removed in 0.24. This will change numeric results when test-set sizes are unequal.\n",
            "  DeprecationWarning)\n"
          ],
          "name": "stderr"
        },
        {
          "output_type": "execute_result",
          "data": {
            "text/plain": [
              "GridSearchCV(cv=2, error_score='raise-deprecating',\n",
              "       estimator=SVC(C=5, cache_size=200, class_weight=None, coef0=1,\n",
              "  decision_function_shape='ovr', degree=3, gamma='scale', kernel='poly',\n",
              "  max_iter=-1, probability=False, random_state=None, shrinking=True,\n",
              "  tol=0.001, verbose=False),\n",
              "       fit_params=None, iid='warn', n_jobs=None,\n",
              "       param_grid=[{'degree': [2, 3, 4, 5, 6, 7, 8]}],\n",
              "       pre_dispatch='2*n_jobs', refit=True, return_train_score='warn',\n",
              "       scoring='neg_mean_squared_error', verbose=0)"
            ]
          },
          "metadata": {
            "tags": []
          },
          "execution_count": 30
        }
      ]
    },
    {
      "metadata": {
        "id": "bBzRsD67Zip2",
        "colab_type": "code",
        "colab": {}
      },
      "cell_type": "code",
      "source": [
        "predict_y = grid_search.predict(X_test)"
      ],
      "execution_count": 0,
      "outputs": []
    },
    {
      "metadata": {
        "id": "ujDmvrnzZWXo",
        "colab_type": "code",
        "colab": {}
      },
      "cell_type": "code",
      "source": [
        "from sklearn.metrics import precision_recall_fscore_support\n",
        "from sklearn.metrics import accuracy_score"
      ],
      "execution_count": 0,
      "outputs": []
    },
    {
      "metadata": {
        "id": "gbdoblhLZYPw",
        "colab_type": "code",
        "colab": {
          "base_uri": "https://localhost:8080/",
          "height": 34
        },
        "outputId": "0d949bdd-1a20-44d9-bcf6-5f43a6b50637"
      },
      "cell_type": "code",
      "source": [
        "precision_recall_fscore_support(y_test, predict_y, average='macro')"
      ],
      "execution_count": 35,
      "outputs": [
        {
          "output_type": "execute_result",
          "data": {
            "text/plain": [
              "(0.9642857142857143, 0.984375, 0.9735449735449735, None)"
            ]
          },
          "metadata": {
            "tags": []
          },
          "execution_count": 35
        }
      ]
    },
    {
      "metadata": {
        "id": "knRfaMV-Z1t9",
        "colab_type": "code",
        "colab": {
          "base_uri": "https://localhost:8080/",
          "height": 34
        },
        "outputId": "0419d89e-4558-46f2-abb5-675b7e780d3b"
      },
      "cell_type": "code",
      "source": [
        "accuracy_score(y_test, predict_y)"
      ],
      "execution_count": 37,
      "outputs": [
        {
          "output_type": "execute_result",
          "data": {
            "text/plain": [
              "0.9777777777777777"
            ]
          },
          "metadata": {
            "tags": []
          },
          "execution_count": 37
        }
      ]
    },
    {
      "metadata": {
        "id": "cfUATsjaXdJc",
        "colab_type": "code",
        "colab": {
          "base_uri": "https://localhost:8080/",
          "height": 34
        },
        "outputId": "9d9b09f9-1970-45f9-a5c0-aea4bcac5120"
      },
      "cell_type": "code",
      "source": [
        "## mejores grados para el problema\n",
        "grid_search.best_params_"
      ],
      "execution_count": 32,
      "outputs": [
        {
          "output_type": "execute_result",
          "data": {
            "text/plain": [
              "{'degree': 5}"
            ]
          },
          "metadata": {
            "tags": []
          },
          "execution_count": 32
        }
      ]
    },
    {
      "metadata": {
        "id": "qi9S7nz-Xdxz",
        "colab_type": "code",
        "colab": {
          "base_uri": "https://localhost:8080/",
          "height": 136
        },
        "outputId": "be7bdce4-7463-4ee0-96ec-a96fdec1f404"
      },
      "cell_type": "code",
      "source": [
        "cvres = grid_search.cv_results_\n",
        "for mean_score, params in zip(cvres[\"mean_test_score\"], cvres[\"params\"]):\n",
        "  print(np.sqrt(-mean_score), params)"
      ],
      "execution_count": 38,
      "outputs": [
        {
          "output_type": "stream",
          "text": [
            "0.29277002188455997 {'degree': 2}\n",
            "0.29277002188455997 {'degree': 3}\n",
            "0.29277002188455997 {'degree': 4}\n",
            "0.2581988897471611 {'degree': 5}\n",
            "0.2581988897471611 {'degree': 6}\n",
            "0.2760262237369417 {'degree': 7}\n",
            "0.2760262237369417 {'degree': 8}\n"
          ],
          "name": "stdout"
        }
      ]
    },
    {
      "metadata": {
        "id": "griims6gaON4",
        "colab_type": "code",
        "colab": {}
      },
      "cell_type": "code",
      "source": [
        ""
      ],
      "execution_count": 0,
      "outputs": []
    },
    {
      "metadata": {
        "id": "oA-4Nto-aO-H",
        "colab_type": "text"
      },
      "cell_type": "markdown",
      "source": [
        "### Gaussian RBF Kernel"
      ]
    },
    {
      "metadata": {
        "id": "JhkSRhkaaRHw",
        "colab_type": "code",
        "colab": {
          "base_uri": "https://localhost:8080/",
          "height": 102
        },
        "outputId": "5a1fbda5-f631-4894-b5c7-a8c5a2b0e16a"
      },
      "cell_type": "code",
      "source": [
        "rbf_kernel_svm_clf = Pipeline((\n",
        "(\"scaler\", StandardScaler()),\n",
        "(\"svm_clf\", SVC(kernel=\"rbf\", gamma=5, C=1,coef0=1))\n",
        "))\n",
        "rbf_kernel_svm_clf.fit(X_train, y_train)"
      ],
      "execution_count": 43,
      "outputs": [
        {
          "output_type": "execute_result",
          "data": {
            "text/plain": [
              "Pipeline(memory=None,\n",
              "     steps=[('scaler', StandardScaler(copy=True, with_mean=True, with_std=True)), ('svm_clf', SVC(C=1, cache_size=200, class_weight=None, coef0=1,\n",
              "  decision_function_shape='ovr', degree=3, gamma=5, kernel='rbf',\n",
              "  max_iter=-1, probability=False, random_state=None, shrinking=True,\n",
              "  tol=0.001, verbose=False))])"
            ]
          },
          "metadata": {
            "tags": []
          },
          "execution_count": 43
        }
      ]
    },
    {
      "metadata": {
        "id": "GDpKu2mYaUhg",
        "colab_type": "code",
        "colab": {
          "base_uri": "https://localhost:8080/",
          "height": 51
        },
        "outputId": "dc513743-2a37-492d-d938-8a2f1e18cad0"
      },
      "cell_type": "code",
      "source": [
        "predict_y = rbf_kernel_svm_clf.predict(X_test)\n",
        "print(predict_y)"
      ],
      "execution_count": 44,
      "outputs": [
        {
          "output_type": "stream",
          "text": [
            "[0. 0. 1. 0. 0. 0. 0. 1. 0. 0. 1. 0. 0. 0. 0. 0. 1. 0. 0. 1. 0. 1. 0. 1.\n",
            " 1. 1. 1. 1. 0. 0. 0. 0. 0. 0. 0. 1. 0. 0. 0. 0. 1. 0. 0. 0. 0.]\n"
          ],
          "name": "stdout"
        }
      ]
    },
    {
      "metadata": {
        "id": "umPc-XWnachI",
        "colab_type": "code",
        "colab": {
          "base_uri": "https://localhost:8080/",
          "height": 34
        },
        "outputId": "b00d9eed-ec23-498a-cf4f-2f48792edd32"
      },
      "cell_type": "code",
      "source": [
        "precision_recall_fscore_support(y_test, predict_y, average='macro')"
      ],
      "execution_count": 45,
      "outputs": [
        {
          "output_type": "execute_result",
          "data": {
            "text/plain": [
              "(1.0, 1.0, 1.0, None)"
            ]
          },
          "metadata": {
            "tags": []
          },
          "execution_count": 45
        }
      ]
    }
  ]
}