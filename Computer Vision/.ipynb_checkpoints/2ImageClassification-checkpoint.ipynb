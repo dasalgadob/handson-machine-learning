{
 "cells": [
  {
   "cell_type": "markdown",
   "metadata": {},
   "source": [
    "# Chapter 2 Image classification\n",
    "\n",
    "## Training MNIST model in Keras\n",
    "\n",
    "### Preparing the dataset\n"
   ]
  },
  {
   "cell_type": "code",
   "execution_count": 1,
   "metadata": {},
   "outputs": [
    {
     "name": "stderr",
     "output_type": "stream",
     "text": [
      "/anaconda3/lib/python3.6/site-packages/h5py/__init__.py:36: FutureWarning: Conversion of the second argument of issubdtype from `float` to `np.floating` is deprecated. In future, it will be treated as `np.float64 == np.dtype(float).type`.\n",
      "  from ._conv import register_converters as _register_converters\n",
      "Using TensorFlow backend.\n"
     ]
    }
   ],
   "source": [
    "import keras"
   ]
  },
  {
   "cell_type": "code",
   "execution_count": 2,
   "metadata": {},
   "outputs": [],
   "source": [
    "batch_size = 128 \n",
    "no_classes = 10\n",
    "epochs = 2\n",
    "image_height, image_width = 28,28"
   ]
  },
  {
   "cell_type": "code",
   "execution_count": 3,
   "metadata": {},
   "outputs": [],
   "source": [
    "## Loading the dataset\n",
    "(x_train, y_train), (x_test, y_test) = keras.datasets.mnist.load_data()"
   ]
  },
  {
   "cell_type": "code",
   "execution_count": 4,
   "metadata": {},
   "outputs": [],
   "source": [
    "### Formatting the data to make each pixel and individual array adding that way\n",
    "###  other dimension to the data\n",
    "x_train = x_train.reshape(x_train.shape[0], image_height, image_width, 1)\n",
    "\n",
    "x_test = x_test.reshape(x_test.shape[0], image_height, image_width, 1)\n",
    "input_shape = (image_height, image_width, 1)"
   ]
  },
  {
   "cell_type": "code",
   "execution_count": 5,
   "metadata": {},
   "outputs": [],
   "source": [
    "### Converting integers from 0 to 255 to float allowing division\n",
    "x_train = x_train.astype('float32')\n",
    "x_test = x_test.astype('float32')\n"
   ]
  },
  {
   "cell_type": "code",
   "execution_count": 6,
   "metadata": {},
   "outputs": [],
   "source": [
    "### normalizing data to be from 0 to 1 to make it easier to train\n",
    "x_train /= 255\n",
    "x_test /= 255"
   ]
  },
  {
   "cell_type": "code",
   "execution_count": 7,
   "metadata": {},
   "outputs": [
    {
     "name": "stdout",
     "output_type": "stream",
     "text": [
      "[7 2 1 ... 4 5 6]\n"
     ]
    }
   ],
   "source": [
    "#print(x_train[0][12])\n",
    "print(y_test)"
   ]
  },
  {
   "cell_type": "code",
   "execution_count": 8,
   "metadata": {},
   "outputs": [],
   "source": [
    "### making one shoot encoding classes\n",
    "y_train = keras.utils.to_categorical(y_train, no_classes)\n",
    "y_test = keras.utils.to_categorical(y_test, no_classes)"
   ]
  },
  {
   "cell_type": "code",
   "execution_count": 9,
   "metadata": {},
   "outputs": [],
   "source": [
    "def simple_cnn(input_shape):\n",
    "    model = keras.models.Sequential()\n",
    "    model.add(keras.layers.Conv2D(filters = 64,\n",
    "                                  kernel_size= (3,3),\n",
    "                                 activation= 'relu',\n",
    "                                 input_shape = input_shape)\n",
    "             )\n",
    "    model.add(keras.layers.Conv2D(filters = 128,\n",
    "                                 kernel_size= (3,3),\n",
    "                                  activation = 'relu'\n",
    "                                 )\n",
    "             )\n",
    "    model.add( keras.layers.MaxPooling2D(pool_size = (2,2) ) )\n",
    "    model.add( keras.layers.Dropout(rate = 0.3))\n",
    "    model.add( keras.layers.Flatten()) ##Make it one dimension\n",
    "    model.add( keras.layers.Dense(units= 1024, activation= 'relu'))\n",
    "    model.add( keras.layers.Dropout(rate= 0.3) )\n",
    "    model.add( keras.layers.Dense(units= no_classes, activation='softmax'))\n",
    "    model.compile(loss= keras.losses.categorical_crossentropy,\n",
    "                  optimizer = keras.optimizers.Adam(),\n",
    "                  metrics = ['accuracy']\n",
    "                )\n",
    "    return model\n",
    "\n",
    "simple_cnn_model = simple_cnn(input_shape)\n",
    "    "
   ]
  },
  {
   "cell_type": "code",
   "execution_count": null,
   "metadata": {},
   "outputs": [
    {
     "name": "stdout",
     "output_type": "stream",
     "text": [
      "Epoch 1/2\n",
      "Epoch 2/2\n"
     ]
    }
   ],
   "source": [
    "simple_cnn_model.fit(x_train, y_train, batch_size, epochs, (x_test, y_test))\n",
    "\n",
    "train_loss, train_accuracy  = simple_cnn_model.evaluate(x_train, y_train,\n",
    "                                                        verbose= 0)\n",
    "print(\"Train data loss:\" , train_loss)\n",
    "print(\"train data accuracy:\", train_accuracy)"
   ]
  },
  {
   "cell_type": "code",
   "execution_count": null,
   "metadata": {},
   "outputs": [],
   "source": [
    "test_loss, test_accuracy = simple_cnn_model.evaluate(x_test, y_test, verbose= 0)\n",
    "\n",
    "print(\"Test data loss:\" , test_loss)\n",
    "print(\"Test data accuracy:\", test_accuracy)"
   ]
  },
  {
   "cell_type": "markdown",
   "metadata": {},
   "source": [
    "## Training model cats vs dogs"
   ]
  },
  {
   "cell_type": "markdown",
   "metadata": {},
   "source": [
    "### Preparing data"
   ]
  },
  {
   "cell_type": "code",
   "execution_count": 10,
   "metadata": {},
   "outputs": [],
   "source": [
    "import os\n",
    "import shutil"
   ]
  },
  {
   "cell_type": "code",
   "execution_count": 11,
   "metadata": {},
   "outputs": [],
   "source": [
    "work_dir = '../data/'"
   ]
  },
  {
   "cell_type": "code",
   "execution_count": 16,
   "metadata": {},
   "outputs": [
    {
     "name": "stdout",
     "output_type": "stream",
     "text": [
      "['.DS_Store', 'cat', 'dog']\n"
     ]
    }
   ],
   "source": [
    "#print(os.listdir(os.path.join(work_dir, 'train')))\n",
    "image_names = sorted(os.listdir(os.path.join(work_dir, 'train')))\n",
    "print(image_names)"
   ]
  },
  {
   "cell_type": "code",
   "execution_count": 17,
   "metadata": {},
   "outputs": [],
   "source": [
    "def copy_files(prefix_str, range_start, range_end, target_dir):\n",
    "    image_paths = [os.path.join(work_dir, 'train', prefix_str + '.' \n",
    "                                + str(i) + '.jpg' )\n",
    "                  for i in range(range_start, range_end)]\n",
    "    dest_dir = os.path.join(work_dir, 'data', target_dir, prefix_str)\n",
    "    os.makedirs(dest_dir)\n",
    "    for image_path in image_paths:\n",
    "        shutil.copy(image_path, dest_dir)"
   ]
  },
  {
   "cell_type": "code",
   "execution_count": 19,
   "metadata": {},
   "outputs": [],
   "source": [
    "## copy files with subfolders for dogs and cats\n",
    "def copy_files2(prefix_str, range_start, range_end, target_dir):\n",
    "    image_paths = [os.path.join(work_dir, 'train/'+ prefix_str, prefix_str + '.' \n",
    "                                + str(i) + '.jpg' )\n",
    "                  for i in range(range_start, range_end)]\n",
    "    dest_dir = os.path.join(work_dir, 'data', target_dir, prefix_str)\n",
    "    os.makedirs(dest_dir)\n",
    "    for image_path in image_paths:\n",
    "        shutil.copy(image_path, dest_dir)"
   ]
  },
  {
   "cell_type": "code",
   "execution_count": 21,
   "metadata": {},
   "outputs": [],
   "source": [
    "##alternative with different folder setup\n",
    "#copy_files2('dog', 0, 800, 'train')\n",
    "#copy_files2('cat', 0, 800, 'train')\n",
    "copy_files2('dog', 800, 1000, 'test')\n",
    "copy_files2('cat', 800, 1000, 'test')"
   ]
  },
  {
   "cell_type": "code",
   "execution_count": 29,
   "metadata": {},
   "outputs": [
    {
     "name": "stdout",
     "output_type": "stream",
     "text": [
      "../data/\n"
     ]
    }
   ],
   "source": [
    "print(work_dir)"
   ]
  },
  {
   "cell_type": "code",
   "execution_count": 30,
   "metadata": {},
   "outputs": [
    {
     "name": "stdout",
     "output_type": "stream",
     "text": [
      "8\n",
      "2\n"
     ]
    }
   ],
   "source": [
    "image_height, image_width = 150,150\n",
    "train_dir = os.path.join(work_dir, \"data\", 'train')\n",
    "test_dir = os.path.join(work_dir, \"data\", 'test')\n",
    "no_classes = 2\n",
    "no_validation = 400\n",
    "epochs = 2\n",
    "batch_size = 200\n",
    "no_train = 1600\n",
    "no_test = 400\n",
    "input_shape = (image_height, image_width, 3)\n",
    "epoch_steps = no_train // batch_size\n",
    "test_steps = no_test // batch_size\n",
    "print(epoch_steps)\n",
    "print(test_steps)"
   ]
  },
  {
   "cell_type": "code",
   "execution_count": 31,
   "metadata": {},
   "outputs": [],
   "source": [
    "simple_cnn_model = simple_cnn(input_shape)"
   ]
  },
  {
   "cell_type": "code",
   "execution_count": 32,
   "metadata": {},
   "outputs": [],
   "source": [
    "generator_train = keras.preprocessing.image.ImageDataGenerator(rescale= 1. / 255)\n",
    "generator_test = keras.preprocessing.image.ImageDataGenerator(rescale = 1. /255)\n"
   ]
  },
  {
   "cell_type": "code",
   "execution_count": 33,
   "metadata": {},
   "outputs": [
    {
     "name": "stdout",
     "output_type": "stream",
     "text": [
      "Found 1600 images belonging to 2 classes.\n",
      "Found 400 images belonging to 2 classes.\n"
     ]
    }
   ],
   "source": [
    "train_images = generator_train.flow_from_directory(train_dir,\n",
    "                                                   batch_size = batch_size,\n",
    "                                                   target_size = (image_width, image_height)\n",
    "                                                  )\n",
    "test_images = generator_test.flow_from_directory(test_dir,\n",
    "                                                 batch_size=batch_size,\n",
    "                                                 target_size = (image_width, image_height)\n",
    "                                                )"
   ]
  },
  {
   "cell_type": "code",
   "execution_count": null,
   "metadata": {},
   "outputs": [
    {
     "name": "stdout",
     "output_type": "stream",
     "text": [
      "Epoch 1/2\n"
     ]
    }
   ],
   "source": [
    "simple_cnn_model.fit_generator(train_images,\n",
    "                               steps_per_epoch= epoch_steps,\n",
    "                               epochs = epochs,\n",
    "                               validation_data = test_images,\n",
    "                               validation_steps = test_steps\n",
    "                              )"
   ]
  },
  {
   "cell_type": "markdown",
   "metadata": {},
   "source": [
    "### Augmenting the dataset"
   ]
  },
  {
   "cell_type": "code",
   "execution_count": null,
   "metadata": {},
   "outputs": [],
   "source": []
  }
 ],
 "metadata": {
  "kernelspec": {
   "display_name": "Python 3",
   "language": "python",
   "name": "python3"
  },
  "language_info": {
   "codemirror_mode": {
    "name": "ipython",
    "version": 3
   },
   "file_extension": ".py",
   "mimetype": "text/x-python",
   "name": "python",
   "nbconvert_exporter": "python",
   "pygments_lexer": "ipython3",
   "version": "3.6.5"
  }
 },
 "nbformat": 4,
 "nbformat_minor": 2
}
