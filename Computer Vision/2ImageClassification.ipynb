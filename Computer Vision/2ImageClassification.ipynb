{
 "cells": [
  {
   "cell_type": "markdown",
   "metadata": {},
   "source": [
    "# Chapter 2 Image classification\n",
    "\n",
    "## Training MNIST model in Keras\n",
    "\n",
    "### Preparing the dataset\n"
   ]
  },
  {
   "cell_type": "code",
   "execution_count": 2,
   "metadata": {},
   "outputs": [
    {
     "name": "stderr",
     "output_type": "stream",
     "text": [
      "/anaconda3/lib/python3.6/site-packages/h5py/__init__.py:36: FutureWarning: Conversion of the second argument of issubdtype from `float` to `np.floating` is deprecated. In future, it will be treated as `np.float64 == np.dtype(float).type`.\n",
      "  from ._conv import register_converters as _register_converters\n",
      "Using TensorFlow backend.\n"
     ]
    }
   ],
   "source": [
    "import keras"
   ]
  },
  {
   "cell_type": "code",
   "execution_count": 1,
   "metadata": {},
   "outputs": [],
   "source": [
    "batch_size = 128 \n",
    "no_classes = 10\n",
    "epochs = 2\n",
    "image_height, image_width = 28,28"
   ]
  },
  {
   "cell_type": "code",
   "execution_count": 34,
   "metadata": {},
   "outputs": [],
   "source": [
    "## Loading the dataset\n",
    "(x_train, y_train), (x_test, y_test) = keras.datasets.mnist.load_data()"
   ]
  },
  {
   "cell_type": "code",
   "execution_count": 35,
   "metadata": {},
   "outputs": [],
   "source": [
    "### Formatting the data to make each pixel and individual array adding that way\n",
    "###  other dimension to the data\n",
    "x_train = x_train.reshape(x_train.shape[0], image_height, image_width, 1)\n",
    "\n",
    "x_test = x_test.reshape(x_test.shape[0], image_height, image_width, 1)\n",
    "input_shape = (image_height, image_width, 1)"
   ]
  },
  {
   "cell_type": "code",
   "execution_count": 36,
   "metadata": {},
   "outputs": [],
   "source": [
    "### Converting integers from 0 to 255 to float allowing division\n",
    "x_train = x_train.astype('float32')\n",
    "x_test = x_test.astype('float32')\n"
   ]
  },
  {
   "cell_type": "code",
   "execution_count": 37,
   "metadata": {},
   "outputs": [],
   "source": [
    "### normalizing data to be from 0 to 1 to make it easier to train\n",
    "x_train /= 255\n",
    "x_test /= 255"
   ]
  },
  {
   "cell_type": "code",
   "execution_count": 41,
   "metadata": {},
   "outputs": [
    {
     "name": "stdout",
     "output_type": "stream",
     "text": [
      "[[0. 0. 0. ... 1. 0. 0.]\n",
      " [0. 0. 1. ... 0. 0. 0.]\n",
      " [0. 1. 0. ... 0. 0. 0.]\n",
      " ...\n",
      " [0. 0. 0. ... 0. 0. 0.]\n",
      " [0. 0. 0. ... 0. 0. 0.]\n",
      " [0. 0. 0. ... 0. 0. 0.]]\n"
     ]
    }
   ],
   "source": [
    "#print(x_train[0][12])\n",
    "print(y_test)"
   ]
  },
  {
   "cell_type": "code",
   "execution_count": 40,
   "metadata": {},
   "outputs": [],
   "source": [
    "### making one shoot encoding classes\n",
    "y_train = keras.utils.to_categorical(y_train, no_classes)\n",
    "y_test = keras.utils.to_categorical(y_test, no_classes)"
   ]
  },
  {
   "cell_type": "code",
   "execution_count": 42,
   "metadata": {},
   "outputs": [],
   "source": [
    "def simple_cnn(input_shape):\n",
    "    model = keras.models.Sequential()\n",
    "    model.add(keras.layers.Conv2D(filters = 64,\n",
    "                                  kernel_size= (3,3),\n",
    "                                 activation= 'relu',\n",
    "                                 input_shape = input_shape)\n",
    "             )\n",
    "    model.add(keras.layers.Conv2D(filters = 128,\n",
    "                                 kernel_size= (3,3),\n",
    "                                  activation = 'relu'\n",
    "                                 )\n",
    "             )\n",
    "    model.add( keras.layers.MaxPooling2D(pool_size = (2,2) ) )\n",
    "    model.add( keras.layers.Dropout(rate = 0.3))\n",
    "    model.add( keras.layers.Flatten()) ##Make it one dimension\n",
    "    model.add( keras.layers.Dense(units= 1024, activation= 'relu'))\n",
    "    model.add( keras.layers.Dropout(rate= 0.3) )\n",
    "    model.add( keras.layers.Dense(units= no_classes, activation='softmax'))\n",
    "    model.compile(loss= keras.losses.categorical_crossentropy,\n",
    "                  optimizer = keras.optimizers.Adam(),\n",
    "                  metrics = ['accuracy']\n",
    "                )\n",
    "    return model\n",
    "\n",
    "simple_cnn_model = simple_cnn(input_shape)\n",
    "    "
   ]
  },
  {
   "cell_type": "code",
   "execution_count": null,
   "metadata": {},
   "outputs": [
    {
     "name": "stdout",
     "output_type": "stream",
     "text": [
      "Epoch 1/2\n",
      "Epoch 2/2\n"
     ]
    }
   ],
   "source": [
    "simple_cnn_model.fit(x_train, y_train, batch_size, epochs, (x_test, y_test))\n",
    "\n",
    "train_loss, train_accuracy  = simple_cnn_model.evaluate(x_train, y_train,\n",
    "                                                        verbose= 0)\n",
    "print(\"Train data loss:\" , train_loss)\n",
    "print(\"train data accuracy:\", train_accuracy)"
   ]
  },
  {
   "cell_type": "code",
   "execution_count": null,
   "metadata": {},
   "outputs": [],
   "source": [
    "test_loss, test_accuracy = simple_cnn_model.evaluate(x_test, y_test, verbose= 0)\n",
    "\n",
    "print(\"Test data loss:\" , test_loss)\n",
    "print(\"Test data accuracy:\", test_accuracy)"
   ]
  }
 ],
 "metadata": {
  "kernelspec": {
   "display_name": "Python 3",
   "language": "python",
   "name": "python3"
  },
  "language_info": {
   "codemirror_mode": {
    "name": "ipython",
    "version": 3
   },
   "file_extension": ".py",
   "mimetype": "text/x-python",
   "name": "python",
   "nbconvert_exporter": "python",
   "pygments_lexer": "ipython3",
   "version": "3.6.5"
  }
 },
 "nbformat": 4,
 "nbformat_minor": 2
}
